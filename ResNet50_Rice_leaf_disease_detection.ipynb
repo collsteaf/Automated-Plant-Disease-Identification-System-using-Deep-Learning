{
  "cells": [
    {
      "cell_type": "markdown",
      "metadata": {
        "id": "solar-apollo"
      },
      "source": [
        "# **ResNet-50**"
      ],
      "id": "solar-apollo"
    },
    {
      "cell_type": "markdown",
      "metadata": {
        "id": "focused-battle"
      },
      "source": [
        "![](https://miro.medium.com/v2/resize:fit:1400/0*tH9evuOFqk8F41FG.png)"
      ],
      "id": "focused-battle"
    },
    {
      "cell_type": "markdown",
      "metadata": {
        "id": "unlike-square"
      },
      "source": [
        "**IMPORTING NECESSARY LIBRARIES FOR TRAINING OF MODEL**"
      ],
      "id": "unlike-square"
    },
    {
      "cell_type": "code",
      "execution_count": null,
      "metadata": {
        "id": "rising-forest"
      },
      "outputs": [],
      "source": [
        "#IMPORTING LIBRARIES\n",
        "import tensorflow\n",
        "from tensorflow import keras\n",
        "from tensorflow.keras.layers import Input, Lambda, Dense, Flatten\n",
        "from tensorflow.keras.models import Model\n",
        "from tensorflow.keras.applications.vgg16 import VGG16\n",
        "from tensorflow.keras.applications.vgg16 import preprocess_input\n",
        "from tensorflow.keras.preprocessing import image\n",
        "from tensorflow.keras.preprocessing.image import ImageDataGenerator,load_img\n",
        "from tensorflow.keras.preprocessing import image_dataset_from_directory\n",
        "from tensorflow.keras.models import Sequential\n",
        "from sklearn.metrics import confusion_matrix\n",
        "import numpy as np\n",
        "import os\n",
        "from glob import glob\n",
        "from keras.models import Sequential,load_model,Model\n",
        "from keras.layers import Conv2D,MaxPool2D,AveragePooling2D,Dense,Flatten,ZeroPadding2D,BatchNormalization,Activation,Add,Input,Dropout,GlobalAveragePooling2D\n",
        "from keras.optimizers import SGD\n",
        "from keras.initializers import glorot_uniform\n",
        "from keras.preprocessing.image import ImageDataGenerator\n",
        "from keras.callbacks import ModelCheckpoint,EarlyStopping,ReduceLROnPlateau"
      ],
      "id": "rising-forest"
    },
    {
      "cell_type": "code",
      "execution_count": null,
      "metadata": {
        "id": "directed-finding"
      },
      "outputs": [],
      "source": [
        "from tensorflow.keras.applications import ResNet50\n",
        "from tensorflow.keras.applications.resnet50 import preprocess_input\n"
      ],
      "id": "directed-finding"
    },
    {
      "cell_type": "code",
      "execution_count": null,
      "metadata": {
        "id": "def85108"
      },
      "outputs": [],
      "source": [
        "# re-size all the images to this\n",
        "IMAGE_SIZE = [224, 224]\n",
        "\n",
        "train_path = '/content/drive/MyDrive/Rice_Dataset_2/RiceLeafsDisease/train/'\n",
        "valid_path = '/content/drive/MyDrive/Rice_Dataset_2/RiceLeafsDisease/valid/'\n",
        "test_path  = '/content/drive/MyDrive/Rice_Dataset_2/RiceLeafsDisease/test/'"
      ],
      "id": "def85108"
    },
    {
      "cell_type": "code",
      "execution_count": null,
      "metadata": {
        "colab": {
          "base_uri": "https://localhost:8080/"
        },
        "id": "7cad5666",
        "outputId": "4539de00-2fbd-4243-ba6e-31b437b7526e"
      },
      "outputs": [
        {
          "output_type": "stream",
          "name": "stdout",
          "text": [
            "4\n"
          ]
        }
      ],
      "source": [
        "# useful for getting number of output classes\n",
        "folders = glob('/content/drive/MyDrive/Rice_Dataset_2/RiceLeafsDisease/train/*')\n",
        "print(len(folders))\n"
      ],
      "id": "7cad5666"
    },
    {
      "cell_type": "code",
      "execution_count": null,
      "metadata": {
        "id": "concrete-dynamics"
      },
      "outputs": [],
      "source": [
        "pre_model =ResNet50(include_top=False,weights='imagenet',input_shape=[224,224,3],classes=len(folders))"
      ],
      "id": "concrete-dynamics"
    },
    {
      "cell_type": "code",
      "execution_count": null,
      "metadata": {
        "colab": {
          "base_uri": "https://localhost:8080/"
        },
        "id": "addressed-tension",
        "outputId": "716792e8-9a69-4a8f-b909-117e553545ba"
      },
      "outputs": [
        {
          "output_type": "stream",
          "name": "stdout",
          "text": [
            "Model: \"model_1\"\n",
            "_________________________________________________________________\n",
            " Layer (type)                Output Shape              Param #   \n",
            "=================================================================\n",
            " input_4 (InputLayer)        [(None, 224, 224, 3)]     0         \n",
            "                                                                 \n",
            " tf.cast_1 (TFOpLambda)      (None, 224, 224, 3)       0         \n",
            "                                                                 \n",
            " tf.__operators__.getitem_1   (None, 224, 224, 3)      0         \n",
            " (SlicingOpLambda)                                               \n",
            "                                                                 \n",
            " tf.nn.bias_add_1 (TFOpLambd  (None, 224, 224, 3)      0         \n",
            " a)                                                              \n",
            "                                                                 \n",
            " resnet50 (Functional)       (None, 7, 7, 2048)        23587712  \n",
            "                                                                 \n",
            " global_average_pooling2d_1   (None, 2048)             0         \n",
            " (GlobalAveragePooling2D)                                        \n",
            "                                                                 \n",
            " dense_3 (Dense)             (None, 128)               262272    \n",
            "                                                                 \n",
            " dense_4 (Dense)             (None, 64)                8256      \n",
            "                                                                 \n",
            " dense_5 (Dense)             (None, 4)                 260       \n",
            "                                                                 \n",
            "=================================================================\n",
            "Total params: 23,858,500\n",
            "Trainable params: 270,788\n",
            "Non-trainable params: 23,587,712\n",
            "_________________________________________________________________\n"
          ]
        }
      ],
      "source": [
        "#Model building\n",
        "for layer in pre_model.layers:\n",
        "    layer.trainable = False\n",
        "\n",
        "pt=Input(shape=[224,224,3])\n",
        "#The first argument is the shape of input image plus 3(as image is colured[RBG], for black_and_white add 1).\n",
        "#The second one is the weights equal to imagenet. And, as we know it gives 1000 outputs. Third one excludes the top layer.\n",
        "\n",
        "func=tensorflow.cast(pt,tensorflow.float32)\n",
        "x=preprocess_input(func) #This function used to zero-center each color channel wrt Imagenet dataset\n",
        "model_resnet=pre_model(x,training=False)\n",
        "model_resnet=GlobalAveragePooling2D()(model_resnet)\n",
        "model_resnet=Dense(128,activation='relu')(model_resnet)\n",
        "model_resnet=Dense(64,activation='relu')(model_resnet)\n",
        "model_resnet=Dense(len(folders),activation='softmax')(model_resnet)\n",
        "\n",
        "\n",
        "model=Model(inputs=pt,outputs=model_resnet)\n",
        "model.summary()"
      ],
      "id": "addressed-tension"
    },
    {
      "cell_type": "code",
      "execution_count": null,
      "metadata": {
        "colab": {
          "base_uri": "https://localhost:8080/"
        },
        "id": "cathedral-character",
        "outputId": "06ef7bbd-4387-4ef8-a5c0-749cefd7856a"
      },
      "outputs": [
        {
          "output_type": "stream",
          "name": "stdout",
          "text": [
            "Found 1400 images belonging to 4 classes.\n",
            "Found 352 images belonging to 4 classes.\n",
            "Found 120 images belonging to 4 classes.\n"
          ]
        }
      ],
      "source": [
        "#Image augmentation\n",
        "#train_datagen = ImageDataGenerator(rescale = 1./255, shear_range = 0.2, zoom_range = 0.2,\n",
        "                                 #  horizontal_flip = True,vertical_flip=False,fill_mode='nearest')\n",
        "train_datagen = ImageDataGenerator(\n",
        "    shear_range=0.2,\n",
        "    zoom_range=0.2,\n",
        "    horizontal_flip=False,\n",
        "    vertical_flip=False,\n",
        "    fill_mode='nearest',\n",
        "    width_shift_range=0.2,\n",
        "    height_shift_range=0.2,\n",
        "    preprocessing_function=preprocess_input)\n",
        "\n",
        "#valid_datagen = ImageDataGenerator(rescale = 1./255)\n",
        "#test_datagen = ImageDataGenerator(rescale = 1./255)\n",
        "\n",
        "\n",
        "valid_datagen = ImageDataGenerator(preprocessing_function=preprocess_input)\n",
        "test_datagen = ImageDataGenerator(preprocessing_function=preprocess_input)\n",
        "\n",
        " #ImageDataGenerator is used to perform data augmentation on the training images.\n",
        " #Data augmentation is a set of techniques to artificial increase the amount of data by generating new data points from existing data.'''\n",
        " #The same data augmentation is not applied to the valid images, but they are rescaled by dividing by 255.\n",
        "\n",
        "\n",
        "training_set = train_datagen.flow_from_directory(train_path,target_size = (224,224), batch_size = 32, class_mode = 'categorical')\n",
        "\n",
        "valid_set = valid_datagen.flow_from_directory(valid_path,target_size = (224,224), batch_size = 32, class_mode = 'categorical')\n",
        "\n",
        "test_set = test_datagen.flow_from_directory(test_path,target_size = (224,224), batch_size = 32, class_mode = 'categorical')"
      ],
      "id": "cathedral-character"
    },
    {
      "cell_type": "code",
      "execution_count": null,
      "metadata": {
        "colab": {
          "base_uri": "https://localhost:8080/"
        },
        "id": "spare-nowhere",
        "outputId": "21ca1ee5-6733-4234-98d5-32480fa86481"
      },
      "outputs": [
        {
          "output_type": "stream",
          "name": "stdout",
          "text": [
            "['brown_spot', 'healthy', 'hispa', 'leaf_blast']\n"
          ]
        }
      ],
      "source": [
        "#Printing the classes.\n",
        "class_dict = training_set.class_indices\n",
        "(class_dict)\n",
        "li = list(class_dict.keys())\n",
        "print(li)"
      ],
      "id": "spare-nowhere"
    },
    {
      "cell_type": "code",
      "execution_count": null,
      "metadata": {
        "id": "designing-thanks"
      },
      "outputs": [],
      "source": [
        "#CallBacks\n",
        "es=EarlyStopping(monitor='val_accuracy',verbose=1,patience=7,mode='auto')\n",
        "mc=ModelCheckpoint(filepath='/content',monitor='val_accuracy',verbose=1,save_best_only=True)\n",
        "lr=ReduceLROnPlateau(monitor='val_accuracy',verbose=1,patience=3,min_lr=0.001)"
      ],
      "id": "designing-thanks"
    },
    {
      "cell_type": "code",
      "execution_count": null,
      "metadata": {
        "id": "vertical-scanning"
      },
      "outputs": [],
      "source": [
        "model.compile(loss = 'categorical_crossentropy', optimizer = 'adam', metrics = ['accuracy'])"
      ],
      "id": "vertical-scanning"
    },
    {
      "cell_type": "code",
      "execution_count": null,
      "metadata": {
        "colab": {
          "base_uri": "https://localhost:8080/"
        },
        "id": "american-annex",
        "scrolled": false,
        "outputId": "f9444bfb-0cde-4914-b51f-f552e839893b"
      },
      "outputs": [
        {
          "output_type": "stream",
          "name": "stdout",
          "text": [
            "Epoch 1/50\n",
            "44/44 [==============================] - 502s 11s/step - loss: 0.9070 - accuracy: 0.6064 - val_loss: 0.5821 - val_accuracy: 0.7812\n",
            "Epoch 2/50\n",
            "44/44 [==============================] - 126s 3s/step - loss: 0.5773 - accuracy: 0.7736 - val_loss: 0.5272 - val_accuracy: 0.7926\n",
            "Epoch 3/50\n",
            "44/44 [==============================] - 127s 3s/step - loss: 0.4599 - accuracy: 0.8221 - val_loss: 0.6650 - val_accuracy: 0.7642\n",
            "Epoch 4/50\n",
            "44/44 [==============================] - 126s 3s/step - loss: 0.4168 - accuracy: 0.8350 - val_loss: 0.5275 - val_accuracy: 0.8011\n",
            "Epoch 5/50\n",
            "44/44 [==============================] - 124s 3s/step - loss: 0.3956 - accuracy: 0.8393 - val_loss: 0.4650 - val_accuracy: 0.8182\n",
            "Epoch 6/50\n",
            "44/44 [==============================] - 126s 3s/step - loss: 0.3675 - accuracy: 0.8550 - val_loss: 0.4421 - val_accuracy: 0.8182\n",
            "Epoch 7/50\n",
            "44/44 [==============================] - 126s 3s/step - loss: 0.3390 - accuracy: 0.8693 - val_loss: 0.4532 - val_accuracy: 0.8381\n",
            "Epoch 8/50\n",
            "44/44 [==============================] - 143s 3s/step - loss: 0.3360 - accuracy: 0.8579 - val_loss: 0.4702 - val_accuracy: 0.8210\n",
            "Epoch 9/50\n",
            "44/44 [==============================] - 124s 3s/step - loss: 0.3153 - accuracy: 0.8714 - val_loss: 0.5298 - val_accuracy: 0.8125\n",
            "Epoch 10/50\n",
            "44/44 [==============================] - 123s 3s/step - loss: 0.2871 - accuracy: 0.8779 - val_loss: 0.5120 - val_accuracy: 0.8210\n",
            "Epoch 11/50\n",
            "44/44 [==============================] - 124s 3s/step - loss: 0.2770 - accuracy: 0.8900 - val_loss: 0.4355 - val_accuracy: 0.8381\n",
            "Epoch 12/50\n",
            "44/44 [==============================] - 142s 3s/step - loss: 0.2368 - accuracy: 0.9079 - val_loss: 0.4592 - val_accuracy: 0.8267\n",
            "Epoch 13/50\n",
            "44/44 [==============================] - 121s 3s/step - loss: 0.2575 - accuracy: 0.8971 - val_loss: 0.4915 - val_accuracy: 0.8239\n",
            "Epoch 14/50\n",
            "44/44 [==============================] - 122s 3s/step - loss: 0.2399 - accuracy: 0.9064 - val_loss: 0.4928 - val_accuracy: 0.8267\n",
            "Epoch 15/50\n",
            "44/44 [==============================] - 121s 3s/step - loss: 0.2399 - accuracy: 0.9071 - val_loss: 0.4705 - val_accuracy: 0.8210\n",
            "Epoch 16/50\n",
            "44/44 [==============================] - 123s 3s/step - loss: 0.2056 - accuracy: 0.9214 - val_loss: 0.5082 - val_accuracy: 0.8324\n",
            "Epoch 17/50\n",
            "44/44 [==============================] - 122s 3s/step - loss: 0.2231 - accuracy: 0.9100 - val_loss: 0.5087 - val_accuracy: 0.8011\n",
            "Epoch 18/50\n",
            "44/44 [==============================] - 123s 3s/step - loss: 0.2129 - accuracy: 0.9157 - val_loss: 0.4511 - val_accuracy: 0.8324\n",
            "Epoch 19/50\n",
            "44/44 [==============================] - 144s 3s/step - loss: 0.2095 - accuracy: 0.9200 - val_loss: 0.6137 - val_accuracy: 0.8068\n",
            "Epoch 20/50\n",
            "44/44 [==============================] - 124s 3s/step - loss: 0.2140 - accuracy: 0.9136 - val_loss: 0.5291 - val_accuracy: 0.8239\n",
            "Epoch 21/50\n",
            "44/44 [==============================] - 123s 3s/step - loss: 0.1936 - accuracy: 0.9214 - val_loss: 0.5351 - val_accuracy: 0.8097\n",
            "Epoch 22/50\n",
            "44/44 [==============================] - 142s 3s/step - loss: 0.1914 - accuracy: 0.9179 - val_loss: 0.5293 - val_accuracy: 0.8295\n",
            "Epoch 23/50\n",
            "44/44 [==============================] - 123s 3s/step - loss: 0.2186 - accuracy: 0.9100 - val_loss: 0.5021 - val_accuracy: 0.8125\n",
            "Epoch 24/50\n",
            "44/44 [==============================] - 122s 3s/step - loss: 0.1793 - accuracy: 0.9307 - val_loss: 0.6072 - val_accuracy: 0.8040\n",
            "Epoch 25/50\n",
            "44/44 [==============================] - 123s 3s/step - loss: 0.1590 - accuracy: 0.9414 - val_loss: 0.4917 - val_accuracy: 0.8239\n",
            "Epoch 26/50\n",
            "44/44 [==============================] - 124s 3s/step - loss: 0.1650 - accuracy: 0.9321 - val_loss: 0.5852 - val_accuracy: 0.8125\n",
            "Epoch 27/50\n",
            "44/44 [==============================] - 124s 3s/step - loss: 0.1676 - accuracy: 0.9321 - val_loss: 0.6154 - val_accuracy: 0.8239\n",
            "Epoch 28/50\n",
            "44/44 [==============================] - 123s 3s/step - loss: 0.1676 - accuracy: 0.9343 - val_loss: 0.5500 - val_accuracy: 0.8352\n",
            "Epoch 29/50\n",
            "44/44 [==============================] - 122s 3s/step - loss: 0.1736 - accuracy: 0.9286 - val_loss: 0.5382 - val_accuracy: 0.8267\n",
            "Epoch 30/50\n",
            "44/44 [==============================] - 120s 3s/step - loss: 0.1699 - accuracy: 0.9400 - val_loss: 0.5382 - val_accuracy: 0.8409\n",
            "Epoch 31/50\n",
            "44/44 [==============================] - 121s 3s/step - loss: 0.1551 - accuracy: 0.9407 - val_loss: 0.6231 - val_accuracy: 0.8210\n",
            "Epoch 32/50\n",
            "44/44 [==============================] - 122s 3s/step - loss: 0.1533 - accuracy: 0.9414 - val_loss: 0.6013 - val_accuracy: 0.8182\n",
            "Epoch 33/50\n",
            "44/44 [==============================] - 121s 3s/step - loss: 0.1610 - accuracy: 0.9371 - val_loss: 0.4306 - val_accuracy: 0.8580\n",
            "Epoch 34/50\n",
            "44/44 [==============================] - 120s 3s/step - loss: 0.1528 - accuracy: 0.9400 - val_loss: 0.5624 - val_accuracy: 0.8295\n",
            "Epoch 35/50\n",
            "44/44 [==============================] - 121s 3s/step - loss: 0.1685 - accuracy: 0.9371 - val_loss: 0.5144 - val_accuracy: 0.8153\n",
            "Epoch 36/50\n",
            "44/44 [==============================] - 120s 3s/step - loss: 0.1323 - accuracy: 0.9493 - val_loss: 0.5523 - val_accuracy: 0.8324\n",
            "Epoch 37/50\n",
            "44/44 [==============================] - 119s 3s/step - loss: 0.1154 - accuracy: 0.9486 - val_loss: 0.5776 - val_accuracy: 0.8523\n",
            "Epoch 38/50\n",
            "44/44 [==============================] - 121s 3s/step - loss: 0.1308 - accuracy: 0.9486 - val_loss: 0.5604 - val_accuracy: 0.8182\n",
            "Epoch 39/50\n",
            "44/44 [==============================] - 118s 3s/step - loss: 0.1540 - accuracy: 0.9421 - val_loss: 0.8877 - val_accuracy: 0.7983\n",
            "Epoch 40/50\n",
            "44/44 [==============================] - 121s 3s/step - loss: 0.1652 - accuracy: 0.9386 - val_loss: 0.5470 - val_accuracy: 0.8494\n",
            "Epoch 41/50\n",
            "44/44 [==============================] - 122s 3s/step - loss: 0.1308 - accuracy: 0.9457 - val_loss: 0.5193 - val_accuracy: 0.8580\n",
            "Epoch 42/50\n",
            "44/44 [==============================] - 121s 3s/step - loss: 0.1605 - accuracy: 0.9371 - val_loss: 0.5459 - val_accuracy: 0.8551\n",
            "Epoch 43/50\n",
            "44/44 [==============================] - 124s 3s/step - loss: 0.1527 - accuracy: 0.9450 - val_loss: 0.5166 - val_accuracy: 0.8494\n",
            "Epoch 44/50\n",
            "44/44 [==============================] - 125s 3s/step - loss: 0.1291 - accuracy: 0.9507 - val_loss: 0.7117 - val_accuracy: 0.8409\n",
            "Epoch 45/50\n",
            "44/44 [==============================] - 142s 3s/step - loss: 0.1155 - accuracy: 0.9507 - val_loss: 0.4970 - val_accuracy: 0.8523\n",
            "Epoch 46/50\n",
            "44/44 [==============================] - 122s 3s/step - loss: 0.1553 - accuracy: 0.9364 - val_loss: 0.5005 - val_accuracy: 0.8438\n",
            "Epoch 47/50\n",
            "44/44 [==============================] - 124s 3s/step - loss: 0.1265 - accuracy: 0.9500 - val_loss: 0.6522 - val_accuracy: 0.8494\n",
            "Epoch 48/50\n",
            "44/44 [==============================] - 123s 3s/step - loss: 0.1256 - accuracy: 0.9514 - val_loss: 0.5247 - val_accuracy: 0.8608\n",
            "Epoch 49/50\n",
            "44/44 [==============================] - 124s 3s/step - loss: 0.1396 - accuracy: 0.9514 - val_loss: 0.5060 - val_accuracy: 0.8494\n",
            "Epoch 50/50\n",
            "44/44 [==============================] - 124s 3s/step - loss: 0.1486 - accuracy: 0.9364 - val_loss: 0.5643 - val_accuracy: 0.8494\n"
          ]
        }
      ],
      "source": [
        "#Training\n",
        "r = model.fit(\n",
        "  training_set,\n",
        "  validation_data=valid_set,\n",
        "  epochs= 50,\n",
        "  steps_per_epoch=len(training_set),\n",
        "  validation_steps=len(valid_set)\n",
        ")\n"
      ],
      "id": "american-annex"
    },
    {
      "cell_type": "code",
      "source": [
        "dir = '/content/gdrive/My Drive/SDP'\n",
        "model.save(f\"{dir}/RESNET50_model.h5\")\n",
        "\n",
        "#model.save(\"RESNET50_PLANT_DISEASE.h5\")"
      ],
      "metadata": {
        "id": "himfaGpXw1NU"
      },
      "id": "himfaGpXw1NU",
      "execution_count": null,
      "outputs": []
    },
    {
      "cell_type": "code",
      "execution_count": null,
      "metadata": {
        "id": "9f5f52a1",
        "colab": {
          "base_uri": "https://localhost:8080/"
        },
        "outputId": "6744e7c1-b787-48ac-c0be-a03f53cf4fbc"
      },
      "outputs": [
        {
          "output_type": "stream",
          "name": "stdout",
          "text": [
            "[INFO] Calculating model accuracy\n",
            "11/11 [==============================] - 21s 2s/step - loss: 0.5643 - accuracy: 0.8494\n",
            "valid Accuracy: 84.94318127632141\n"
          ]
        }
      ],
      "source": [
        "#Finding the accuracy\n",
        "print(\"[INFO] Calculating model accuracy\")\n",
        "scores = model.evaluate(valid_set, batch_size= 32 )\n",
        "print(f\"valid Accuracy: {scores[1]*100}\")"
      ],
      "id": "9f5f52a1"
    },
    {
      "cell_type": "code",
      "execution_count": null,
      "metadata": {
        "id": "HYeMWfb5nMcA",
        "colab": {
          "base_uri": "https://localhost:8080/"
        },
        "outputId": "e6553998-d25d-4f60-b89e-a67c12cac378"
      },
      "outputs": [
        {
          "output_type": "stream",
          "name": "stdout",
          "text": [
            "[INFO] Calculating model accuracy\n",
            "4/4 [==============================] - 33s 10s/step - loss: 1.5901 - accuracy: 0.7250\n",
            "Test Accuracy: 72.50000238418579\n"
          ]
        }
      ],
      "source": [
        "#Finding the accuracy\n",
        "print(\"[INFO] Calculating model accuracy\")\n",
        "scores = model.evaluate(test_set, batch_size= 32 )\n",
        "print(f\"Test Accuracy: {scores[1]*100}\")"
      ],
      "id": "HYeMWfb5nMcA"
    },
    {
      "cell_type": "code",
      "execution_count": null,
      "metadata": {
        "id": "promising-coordinator",
        "colab": {
          "base_uri": "https://localhost:8080/",
          "height": 821
        },
        "outputId": "254e592e-025a-4526-850a-7870d0f59e97"
      },
      "outputs": [
        {
          "output_type": "display_data",
          "data": {
            "text/plain": [
              "<Figure size 600x400 with 1 Axes>"
            ],
            "image/png": "[encoded data removed]"
          },
          "metadata": {}
        },
        {
          "output_type": "display_data",
          "data": {
            "text/plain": [
              "<Figure size 600x400 with 1 Axes>"
            ],
            "image/png": "[encoded data removed]"
          },
          "metadata": {}
        }
      ],
      "source": [
        "import matplotlib.pyplot as plt\n",
        "import seaborn as sns\n",
        "sns.set()\n",
        "acc = [0.] + r.history['accuracy']\n",
        "val_acc = [0.] + r.history['val_accuracy']\n",
        "\n",
        "loss = r.history['loss']\n",
        "val_loss = r.history['val_loss']\n",
        "\n",
        "plt.figure(figsize=(6, 4))\n",
        "plt.plot(acc, label='Training Accuracy')\n",
        "plt.plot(val_acc, label='Validation Accuracy')\n",
        "plt.legend(loc='lower right')\n",
        "plt.ylabel('Accuracy')\n",
        "plt.xlabel('epoch')\n",
        "plt.ylim([min(plt.ylim()),1])\n",
        "plt.title('Training and Validation Accuracy')\n",
        "plt.savefig('ResNet50_acc')\n",
        "\n",
        "\n",
        "plt.figure(figsize=(6, 4))\n",
        "plt.plot(loss, label='Training Loss')\n",
        "plt.plot(val_loss, label='Validation Loss')\n",
        "plt.legend(loc='upper right')\n",
        "plt.ylabel('Loss_value')\n",
        "plt.ylim([0,3.0])\n",
        "plt.title('Training and Validation Loss')\n",
        "plt.xlabel('epoch')\n",
        "plt.savefig('ResNet50_Loss')\n",
        "plt.show()"
      ],
      "id": "promising-coordinator"
    },
    {
      "cell_type": "code",
      "execution_count": null,
      "metadata": {
        "id": "persistent-individual",
        "colab": {
          "base_uri": "https://localhost:8080/",
          "height": 646
        },
        "outputId": "ba1fdc47-73db-4228-d3cf-dcf5ffc5d44c"
      },
      "outputs": [
        {
          "output_type": "stream",
          "name": "stdout",
          "text": [
            "4/4 [==============================] - 0s 101ms/step\n",
            "              precision    recall  f1-score   support\n",
            "\n",
            "           0       1.00      0.67      0.80        30\n",
            "           1       0.95      0.67      0.78        30\n",
            "           2       0.55      0.97      0.70        30\n",
            "           3       0.69      0.60      0.64        30\n",
            "\n",
            "    accuracy                           0.73       120\n",
            "   macro avg       0.80      0.72      0.73       120\n",
            "weighted avg       0.80      0.72      0.73       120\n",
            "\n"
          ]
        },
        {
          "output_type": "execute_result",
          "data": {
            "text/plain": [
              "Text(40.04687499999999, 0.5, 'True Labels')"
            ]
          },
          "metadata": {},
          "execution_count": 29
        },
        {
          "output_type": "display_data",
          "data": {
            "text/plain": [
              "<Figure size 600x400 with 2 Axes>"
            ],
            "image/png": "[encoded data removed]"
          },
          "metadata": {}
        }
      ],
      "source": [
        "from sklearn.metrics import accuracy_score, classification_report\n",
        "# Get the predicted labels for the validation set### Libraries\n",
        "# Load the trained model\n",
        "#model = keras.models.load_model(\"RESNET50_model.h5\")\n",
        "\n",
        "test_step_sz = test_set.n/test_set.batch_size\n",
        "test_images, test_labels = [], []\n",
        "for i in np.arange(test_step_sz):\n",
        "    batch_images, batch_labels = test_set.next()\n",
        "    test_images.append(batch_images)\n",
        "    test_labels.append(batch_labels)\n",
        "\n",
        "\n",
        "test_images = np.concatenate(test_images)\n",
        "test_labels = np.concatenate(test_labels)\n",
        "\n",
        "\n",
        "\n",
        "y_pred = model.predict(test_images)\n",
        "y_pred = np.argmax(y_pred, axis=1)\n",
        "\n",
        "# Get the true labels for the validation set\n",
        "y_true = np.argmax(test_labels, axis =1)\n",
        "\n",
        "# Calculate classification metrics\n",
        "report = classification_report(y_true, y_pred)\n",
        "print(report)\n",
        "\n",
        "\n",
        "\n",
        "\n",
        "# Create confusion matrix\n",
        "cm = confusion_matrix(y_true, y_pred)\n",
        "\n",
        "# Get class labels\n",
        "class_labels = list(valid_set.class_indices.keys())\n",
        "\n",
        "# Plot confusion matrix\n",
        "plt.figure(figsize=(6, 4))\n",
        "sns.heatmap(cm, annot=True, fmt=\"d\", cmap='Blues', xticklabels=class_labels, yticklabels=class_labels)\n",
        "plt.title(\"Confusion Matrix\")\n",
        "plt.xlabel(\"Predicted Labels\")\n",
        "plt.ylabel(\"True Labels\")\n",
        "\n"
      ],
      "id": "persistent-individual"
    },
    {
      "cell_type": "code",
      "execution_count": null,
      "metadata": {
        "id": "a6b17dd3",
        "colab": {
          "base_uri": "https://localhost:8080/"
        },
        "outputId": "0d48993c-a920-4577-e3e5-8f112199a6c3"
      },
      "outputs": [
        {
          "output_type": "stream",
          "name": "stdout",
          "text": [
            "4/4 [==============================] - 14s 4s/step\n",
            "Image: /content/drive/MyDrive/Rice_Dataset_2/RiceLeafsDisease/test/brown_spot/IMG_2992.jpg\n",
            "Disease: Hispa\n",
            "----------------------\n",
            "Image: /content/drive/MyDrive/Rice_Dataset_2/RiceLeafsDisease/test/brown_spot/IMG_3018.jpg\n",
            "Disease: Brown_Spot\n",
            "----------------------\n",
            "Image: /content/drive/MyDrive/Rice_Dataset_2/RiceLeafsDisease/test/brown_spot/IMG_3047.jpg\n",
            "Disease: Healthy\n",
            "----------------------\n",
            "Image: /content/drive/MyDrive/Rice_Dataset_2/RiceLeafsDisease/test/brown_spot/IMG_3048.jpg\n",
            "Disease: Hispa\n",
            "----------------------\n",
            "Image: /content/drive/MyDrive/Rice_Dataset_2/RiceLeafsDisease/test/brown_spot/IMG_3072.jpg\n",
            "Disease: Hispa\n",
            "----------------------\n",
            "Image: /content/drive/MyDrive/Rice_Dataset_2/RiceLeafsDisease/test/brown_spot/IMG_3077.jpg\n",
            "Disease: Hispa\n",
            "----------------------\n",
            "Image: /content/drive/MyDrive/Rice_Dataset_2/RiceLeafsDisease/test/brown_spot/IMG_3091.jpg\n",
            "Disease: Hispa\n",
            "----------------------\n",
            "Image: /content/drive/MyDrive/Rice_Dataset_2/RiceLeafsDisease/test/brown_spot/IMG_3175.jpg\n",
            "Disease: Healthy\n",
            "----------------------\n",
            "Image: /content/drive/MyDrive/Rice_Dataset_2/RiceLeafsDisease/test/brown_spot/IMG_3176.jpg\n",
            "Disease: Brown_Spot\n",
            "----------------------\n",
            "Image: /content/drive/MyDrive/Rice_Dataset_2/RiceLeafsDisease/test/brown_spot/IMG_3178.jpg\n",
            "Disease: Healthy\n",
            "----------------------\n",
            "Image: /content/drive/MyDrive/Rice_Dataset_2/RiceLeafsDisease/test/brown_spot/brown_spot (1).jpg\n",
            "Disease: Hispa\n",
            "----------------------\n",
            "Image: /content/drive/MyDrive/Rice_Dataset_2/RiceLeafsDisease/test/brown_spot/brown_spot (10).jpg\n",
            "Disease: Hispa\n",
            "----------------------\n",
            "Image: /content/drive/MyDrive/Rice_Dataset_2/RiceLeafsDisease/test/brown_spot/brown_spot (2).jpg\n",
            "Disease: Hispa\n",
            "----------------------\n",
            "Image: /content/drive/MyDrive/Rice_Dataset_2/RiceLeafsDisease/test/brown_spot/brown_spot (3).jpg\n",
            "Disease: Brown_Spot\n",
            "----------------------\n",
            "Image: /content/drive/MyDrive/Rice_Dataset_2/RiceLeafsDisease/test/brown_spot/brown_spot (4).jpg\n",
            "Disease: Leaf_Blast\n",
            "----------------------\n",
            "Image: /content/drive/MyDrive/Rice_Dataset_2/RiceLeafsDisease/test/brown_spot/brown_spot (5).jpg\n",
            "Disease: Healthy\n",
            "----------------------\n",
            "Image: /content/drive/MyDrive/Rice_Dataset_2/RiceLeafsDisease/test/brown_spot/brown_spot (6).jpg\n",
            "Disease: Brown_Spot\n",
            "----------------------\n",
            "Image: /content/drive/MyDrive/Rice_Dataset_2/RiceLeafsDisease/test/brown_spot/brown_spot (7).jpg\n",
            "Disease: Hispa\n",
            "----------------------\n",
            "Image: /content/drive/MyDrive/Rice_Dataset_2/RiceLeafsDisease/test/brown_spot/brown_spot (8).jpg\n",
            "Disease: Leaf_Blast\n",
            "----------------------\n",
            "Image: /content/drive/MyDrive/Rice_Dataset_2/RiceLeafsDisease/test/brown_spot/brown_spot (9).jpg\n",
            "Disease: Healthy\n",
            "----------------------\n",
            "Image: /content/drive/MyDrive/Rice_Dataset_2/RiceLeafsDisease/test/brown_spot/brown_val (1).jpg\n",
            "Disease: Leaf_Blast\n",
            "----------------------\n",
            "Image: /content/drive/MyDrive/Rice_Dataset_2/RiceLeafsDisease/test/brown_spot/brown_val (10).jpg\n",
            "Disease: Hispa\n",
            "----------------------\n",
            "Image: /content/drive/MyDrive/Rice_Dataset_2/RiceLeafsDisease/test/brown_spot/brown_val (2).jpg\n",
            "Disease: Brown_Spot\n",
            "----------------------\n",
            "Image: /content/drive/MyDrive/Rice_Dataset_2/RiceLeafsDisease/test/brown_spot/brown_val (3).jpg\n",
            "Disease: Leaf_Blast\n",
            "----------------------\n",
            "Image: /content/drive/MyDrive/Rice_Dataset_2/RiceLeafsDisease/test/brown_spot/brown_val (4).jpg\n",
            "Disease: Leaf_Blast\n",
            "----------------------\n",
            "Image: /content/drive/MyDrive/Rice_Dataset_2/RiceLeafsDisease/test/brown_spot/brown_val (5).JPG\n",
            "Disease: Leaf_Blast\n",
            "----------------------\n",
            "Image: /content/drive/MyDrive/Rice_Dataset_2/RiceLeafsDisease/test/brown_spot/brown_val (6).jpg\n",
            "Disease: Hispa\n",
            "----------------------\n",
            "Image: /content/drive/MyDrive/Rice_Dataset_2/RiceLeafsDisease/test/brown_spot/brown_val (7).jpg\n",
            "Disease: Hispa\n",
            "----------------------\n",
            "Image: /content/drive/MyDrive/Rice_Dataset_2/RiceLeafsDisease/test/brown_spot/brown_val (8).jpg\n",
            "Disease: Leaf_Blast\n",
            "----------------------\n",
            "Image: /content/drive/MyDrive/Rice_Dataset_2/RiceLeafsDisease/test/brown_spot/brown_val (9).jpg\n",
            "Disease: Hispa\n",
            "----------------------\n",
            "Image: /content/drive/MyDrive/Rice_Dataset_2/RiceLeafsDisease/test/healthy/IMG_20190419_103358.jpg\n",
            "Disease: Hispa\n",
            "----------------------\n",
            "Image: /content/drive/MyDrive/Rice_Dataset_2/RiceLeafsDisease/test/healthy/IMG_20190419_103653.jpg\n",
            "Disease: Leaf_Blast\n",
            "----------------------\n",
            "Image: /content/drive/MyDrive/Rice_Dataset_2/RiceLeafsDisease/test/healthy/IMG_20190419_112050.jpg\n",
            "Disease: Brown_Spot\n",
            "----------------------\n",
            "Image: /content/drive/MyDrive/Rice_Dataset_2/RiceLeafsDisease/test/healthy/IMG_20190419_112952.jpg\n",
            "Disease: Hispa\n",
            "----------------------\n",
            "Image: /content/drive/MyDrive/Rice_Dataset_2/RiceLeafsDisease/test/healthy/IMG_20190419_113415.jpg\n",
            "Disease: Hispa\n",
            "----------------------\n",
            "Image: /content/drive/MyDrive/Rice_Dataset_2/RiceLeafsDisease/test/healthy/IMG_20190419_113735.jpg\n",
            "Disease: Hispa\n",
            "----------------------\n",
            "Image: /content/drive/MyDrive/Rice_Dataset_2/RiceLeafsDisease/test/healthy/IMG_20190419_114420.jpg\n",
            "Disease: Leaf_Blast\n",
            "----------------------\n",
            "Image: /content/drive/MyDrive/Rice_Dataset_2/RiceLeafsDisease/test/healthy/IMG_20190419_114857.jpg\n",
            "Disease: Hispa\n",
            "----------------------\n",
            "Image: /content/drive/MyDrive/Rice_Dataset_2/RiceLeafsDisease/test/healthy/IMG_20190419_123709.jpg\n",
            "Disease: Hispa\n",
            "----------------------\n",
            "Image: /content/drive/MyDrive/Rice_Dataset_2/RiceLeafsDisease/test/healthy/IMG_20190419_124247.jpg\n",
            "Disease: Hispa\n",
            "----------------------\n",
            "Image: /content/drive/MyDrive/Rice_Dataset_2/RiceLeafsDisease/test/healthy/healthy (1).jpg\n",
            "Disease: Hispa\n",
            "----------------------\n",
            "Image: /content/drive/MyDrive/Rice_Dataset_2/RiceLeafsDisease/test/healthy/healthy (10).jpg\n",
            "Disease: Hispa\n",
            "----------------------\n",
            "Image: /content/drive/MyDrive/Rice_Dataset_2/RiceLeafsDisease/test/healthy/healthy (2).jpg\n",
            "Disease: Hispa\n",
            "----------------------\n",
            "Image: /content/drive/MyDrive/Rice_Dataset_2/RiceLeafsDisease/test/healthy/healthy (3).jpg\n",
            "Disease: Healthy\n",
            "----------------------\n",
            "Image: /content/drive/MyDrive/Rice_Dataset_2/RiceLeafsDisease/test/healthy/healthy (4).jpg\n",
            "Disease: Healthy\n",
            "----------------------\n",
            "Image: /content/drive/MyDrive/Rice_Dataset_2/RiceLeafsDisease/test/healthy/healthy (5).jpg\n",
            "Disease: Hispa\n",
            "----------------------\n",
            "Image: /content/drive/MyDrive/Rice_Dataset_2/RiceLeafsDisease/test/healthy/healthy (6).jpg\n",
            "Disease: Healthy\n",
            "----------------------\n",
            "Image: /content/drive/MyDrive/Rice_Dataset_2/RiceLeafsDisease/test/healthy/healthy (7).jpg\n",
            "Disease: Leaf_Blast\n",
            "----------------------\n",
            "Image: /content/drive/MyDrive/Rice_Dataset_2/RiceLeafsDisease/test/healthy/healthy (8).jpg\n",
            "Disease: Brown_Spot\n",
            "----------------------\n",
            "Image: /content/drive/MyDrive/Rice_Dataset_2/RiceLeafsDisease/test/healthy/healthy (9).jpg\n",
            "Disease: Healthy\n",
            "----------------------\n",
            "Image: /content/drive/MyDrive/Rice_Dataset_2/RiceLeafsDisease/test/healthy/healthy_val (1).jpg\n",
            "Disease: Hispa\n",
            "----------------------\n",
            "Image: /content/drive/MyDrive/Rice_Dataset_2/RiceLeafsDisease/test/healthy/healthy_val (10).jpg\n",
            "Disease: Hispa\n",
            "----------------------\n",
            "Image: /content/drive/MyDrive/Rice_Dataset_2/RiceLeafsDisease/test/healthy/healthy_val (2).jpg\n",
            "Disease: Leaf_Blast\n",
            "----------------------\n",
            "Image: /content/drive/MyDrive/Rice_Dataset_2/RiceLeafsDisease/test/healthy/healthy_val (3).jpg\n",
            "Disease: Healthy\n",
            "----------------------\n",
            "Image: /content/drive/MyDrive/Rice_Dataset_2/RiceLeafsDisease/test/healthy/healthy_val (4).jpg\n",
            "Disease: Leaf_Blast\n",
            "----------------------\n",
            "Image: /content/drive/MyDrive/Rice_Dataset_2/RiceLeafsDisease/test/healthy/healthy_val (5).jpg\n",
            "Disease: Leaf_Blast\n",
            "----------------------\n",
            "Image: /content/drive/MyDrive/Rice_Dataset_2/RiceLeafsDisease/test/healthy/healthy_val (6).jpg\n",
            "Disease: Brown_Spot\n",
            "----------------------\n",
            "Image: /content/drive/MyDrive/Rice_Dataset_2/RiceLeafsDisease/test/healthy/healthy_val (7).jpg\n",
            "Disease: Healthy\n",
            "----------------------\n",
            "Image: /content/drive/MyDrive/Rice_Dataset_2/RiceLeafsDisease/test/healthy/healthy_val (8).jpg\n",
            "Disease: Brown_Spot\n",
            "----------------------\n",
            "Image: /content/drive/MyDrive/Rice_Dataset_2/RiceLeafsDisease/test/healthy/healthy_val (9).jpg\n",
            "Disease: Brown_Spot\n",
            "----------------------\n",
            "Image: /content/drive/MyDrive/Rice_Dataset_2/RiceLeafsDisease/test/hispa/IMG_20190419_094238.jpg\n",
            "Disease: Hispa\n",
            "----------------------\n",
            "Image: /content/drive/MyDrive/Rice_Dataset_2/RiceLeafsDisease/test/hispa/IMG_20190419_094245.jpg\n",
            "Disease: Healthy\n",
            "----------------------\n",
            "Image: /content/drive/MyDrive/Rice_Dataset_2/RiceLeafsDisease/test/hispa/IMG_20190419_094254.jpg\n",
            "Disease: Healthy\n",
            "----------------------\n",
            "Image: /content/drive/MyDrive/Rice_Dataset_2/RiceLeafsDisease/test/hispa/IMG_20190419_094308.jpg\n",
            "Disease: Hispa\n",
            "----------------------\n",
            "Image: /content/drive/MyDrive/Rice_Dataset_2/RiceLeafsDisease/test/hispa/IMG_20190419_094313.jpg\n",
            "Disease: Hispa\n",
            "----------------------\n",
            "Image: /content/drive/MyDrive/Rice_Dataset_2/RiceLeafsDisease/test/hispa/IMG_20190419_094330.jpg\n",
            "Disease: Hispa\n",
            "----------------------\n",
            "Image: /content/drive/MyDrive/Rice_Dataset_2/RiceLeafsDisease/test/hispa/IMG_20190419_094850.jpg\n",
            "Disease: Leaf_Blast\n",
            "----------------------\n",
            "Image: /content/drive/MyDrive/Rice_Dataset_2/RiceLeafsDisease/test/hispa/IMG_20190419_095001.jpg\n",
            "Disease: Healthy\n",
            "----------------------\n",
            "Image: /content/drive/MyDrive/Rice_Dataset_2/RiceLeafsDisease/test/hispa/IMG_20190419_095008.jpg\n",
            "Disease: Brown_Spot\n",
            "----------------------\n",
            "Image: /content/drive/MyDrive/Rice_Dataset_2/RiceLeafsDisease/test/hispa/IMG_20190419_095010.jpg\n",
            "Disease: Brown_Spot\n",
            "----------------------\n",
            "Image: /content/drive/MyDrive/Rice_Dataset_2/RiceLeafsDisease/test/hispa/IMG_20190419_095012.jpg\n",
            "Disease: Hispa\n",
            "----------------------\n",
            "Image: /content/drive/MyDrive/Rice_Dataset_2/RiceLeafsDisease/test/hispa/IMG_20190419_095310.jpg\n",
            "Disease: Hispa\n",
            "----------------------\n",
            "Image: /content/drive/MyDrive/Rice_Dataset_2/RiceLeafsDisease/test/hispa/IMG_20190419_095315.jpg\n",
            "Disease: Leaf_Blast\n",
            "----------------------\n",
            "Image: /content/drive/MyDrive/Rice_Dataset_2/RiceLeafsDisease/test/hispa/IMG_20190419_095421.jpg\n",
            "Disease: Brown_Spot\n",
            "----------------------\n",
            "Image: /content/drive/MyDrive/Rice_Dataset_2/RiceLeafsDisease/test/hispa/IMG_20190419_095623.jpg\n",
            "Disease: Healthy\n",
            "----------------------\n",
            "Image: /content/drive/MyDrive/Rice_Dataset_2/RiceLeafsDisease/test/hispa/IMG_20190419_095802.jpg\n",
            "Disease: Hispa\n",
            "----------------------\n",
            "Image: /content/drive/MyDrive/Rice_Dataset_2/RiceLeafsDisease/test/hispa/IMG_20190419_095906.jpg\n",
            "Disease: Hispa\n",
            "----------------------\n",
            "Image: /content/drive/MyDrive/Rice_Dataset_2/RiceLeafsDisease/test/hispa/IMG_20190419_095915.jpg\n",
            "Disease: Brown_Spot\n",
            "----------------------\n",
            "Image: /content/drive/MyDrive/Rice_Dataset_2/RiceLeafsDisease/test/hispa/IMG_20190419_095917.jpg\n",
            "Disease: Hispa\n",
            "----------------------\n",
            "Image: /content/drive/MyDrive/Rice_Dataset_2/RiceLeafsDisease/test/hispa/IMG_20190419_095920.jpg\n",
            "Disease: Brown_Spot\n",
            "----------------------\n",
            "Image: /content/drive/MyDrive/Rice_Dataset_2/RiceLeafsDisease/test/hispa/IMG_20190419_123858.jpg\n",
            "Disease: Leaf_Blast\n",
            "----------------------\n",
            "Image: /content/drive/MyDrive/Rice_Dataset_2/RiceLeafsDisease/test/hispa/IMG_20190419_124719.jpg\n",
            "Disease: Hispa\n",
            "----------------------\n",
            "Image: /content/drive/MyDrive/Rice_Dataset_2/RiceLeafsDisease/test/hispa/IMG_20190419_124803.jpg\n",
            "Disease: Hispa\n",
            "----------------------\n",
            "Image: /content/drive/MyDrive/Rice_Dataset_2/RiceLeafsDisease/test/hispa/IMG_20190419_130332.jpg\n",
            "Disease: Hispa\n",
            "----------------------\n",
            "Image: /content/drive/MyDrive/Rice_Dataset_2/RiceLeafsDisease/test/hispa/IMG_20190419_131449.jpg\n",
            "Disease: Leaf_Blast\n",
            "----------------------\n",
            "Image: /content/drive/MyDrive/Rice_Dataset_2/RiceLeafsDisease/test/hispa/IMG_20190419_131606.jpg\n",
            "Disease: Hispa\n",
            "----------------------\n",
            "Image: /content/drive/MyDrive/Rice_Dataset_2/RiceLeafsDisease/test/hispa/IMG_20190419_134343.jpg\n",
            "Disease: Leaf_Blast\n",
            "----------------------\n",
            "Image: /content/drive/MyDrive/Rice_Dataset_2/RiceLeafsDisease/test/hispa/IMG_20190419_134503.jpg\n",
            "Disease: Healthy\n",
            "----------------------\n",
            "Image: /content/drive/MyDrive/Rice_Dataset_2/RiceLeafsDisease/test/hispa/IMG_20190419_134703.jpg\n",
            "Disease: Brown_Spot\n",
            "----------------------\n",
            "Image: /content/drive/MyDrive/Rice_Dataset_2/RiceLeafsDisease/test/hispa/IMG_20190419_134705.jpg\n",
            "Disease: Hispa\n",
            "----------------------\n",
            "Image: /content/drive/MyDrive/Rice_Dataset_2/RiceLeafsDisease/test/leaf_blast/IMG_20190419_100616.jpg\n",
            "Disease: Hispa\n",
            "----------------------\n",
            "Image: /content/drive/MyDrive/Rice_Dataset_2/RiceLeafsDisease/test/leaf_blast/IMG_20190419_100837.jpg\n",
            "Disease: Hispa\n",
            "----------------------\n",
            "Image: /content/drive/MyDrive/Rice_Dataset_2/RiceLeafsDisease/test/leaf_blast/IMG_20190419_103959.jpg\n",
            "Disease: Leaf_Blast\n",
            "----------------------\n",
            "Image: /content/drive/MyDrive/Rice_Dataset_2/RiceLeafsDisease/test/leaf_blast/IMG_20190419_105606.jpg\n",
            "Disease: Healthy\n",
            "----------------------\n",
            "Image: /content/drive/MyDrive/Rice_Dataset_2/RiceLeafsDisease/test/leaf_blast/IMG_20190419_105830.jpg\n",
            "Disease: Brown_Spot\n",
            "----------------------\n",
            "Image: /content/drive/MyDrive/Rice_Dataset_2/RiceLeafsDisease/test/leaf_blast/IMG_20190419_110203.jpg\n",
            "Disease: Healthy\n",
            "----------------------\n",
            "Image: /content/drive/MyDrive/Rice_Dataset_2/RiceLeafsDisease/test/leaf_blast/IMG_20190419_110301.jpg\n",
            "Disease: Leaf_Blast\n",
            "----------------------\n",
            "Image: /content/drive/MyDrive/Rice_Dataset_2/RiceLeafsDisease/test/leaf_blast/IMG_20190419_110358.jpg\n",
            "Disease: Brown_Spot\n",
            "----------------------\n",
            "Image: /content/drive/MyDrive/Rice_Dataset_2/RiceLeafsDisease/test/leaf_blast/IMG_20190419_111112.jpg\n",
            "Disease: Hispa\n",
            "----------------------\n",
            "Image: /content/drive/MyDrive/Rice_Dataset_2/RiceLeafsDisease/test/leaf_blast/IMG_20190419_111209.jpg\n",
            "Disease: Hispa\n",
            "----------------------\n",
            "Image: /content/drive/MyDrive/Rice_Dataset_2/RiceLeafsDisease/test/leaf_blast/leaf_blast (1).jpg\n",
            "Disease: Leaf_Blast\n",
            "----------------------\n",
            "Image: /content/drive/MyDrive/Rice_Dataset_2/RiceLeafsDisease/test/leaf_blast/leaf_blast (10).jpg\n",
            "Disease: Healthy\n",
            "----------------------\n",
            "Image: /content/drive/MyDrive/Rice_Dataset_2/RiceLeafsDisease/test/leaf_blast/leaf_blast (2).jpg\n",
            "Disease: Hispa\n",
            "----------------------\n",
            "Image: /content/drive/MyDrive/Rice_Dataset_2/RiceLeafsDisease/test/leaf_blast/leaf_blast (3).jpg\n",
            "Disease: Hispa\n",
            "----------------------\n",
            "Image: /content/drive/MyDrive/Rice_Dataset_2/RiceLeafsDisease/test/leaf_blast/leaf_blast (4).jpg\n",
            "Disease: Hispa\n",
            "----------------------\n",
            "Image: /content/drive/MyDrive/Rice_Dataset_2/RiceLeafsDisease/test/leaf_blast/leaf_blast (5).jpg\n",
            "Disease: Hispa\n",
            "----------------------\n",
            "Image: /content/drive/MyDrive/Rice_Dataset_2/RiceLeafsDisease/test/leaf_blast/leaf_blast (6).jpg\n",
            "Disease: Leaf_Blast\n",
            "----------------------\n",
            "Image: /content/drive/MyDrive/Rice_Dataset_2/RiceLeafsDisease/test/leaf_blast/leaf_blast (7).jpg\n",
            "Disease: Hispa\n",
            "----------------------\n",
            "Image: /content/drive/MyDrive/Rice_Dataset_2/RiceLeafsDisease/test/leaf_blast/leaf_blast (8).jpg\n",
            "Disease: Hispa\n",
            "----------------------\n",
            "Image: /content/drive/MyDrive/Rice_Dataset_2/RiceLeafsDisease/test/leaf_blast/leaf_blast (9).jpg\n",
            "Disease: Leaf_Blast\n",
            "----------------------\n",
            "Image: /content/drive/MyDrive/Rice_Dataset_2/RiceLeafsDisease/test/leaf_blast/leaf_blast_val (1).jpg\n",
            "Disease: Hispa\n",
            "----------------------\n",
            "Image: /content/drive/MyDrive/Rice_Dataset_2/RiceLeafsDisease/test/leaf_blast/leaf_blast_val (10).jpg\n",
            "Disease: Healthy\n",
            "----------------------\n",
            "Image: /content/drive/MyDrive/Rice_Dataset_2/RiceLeafsDisease/test/leaf_blast/leaf_blast_val (2).jpg\n",
            "Disease: Leaf_Blast\n",
            "----------------------\n",
            "Image: /content/drive/MyDrive/Rice_Dataset_2/RiceLeafsDisease/test/leaf_blast/leaf_blast_val (3).jpg\n",
            "Disease: Healthy\n",
            "----------------------\n",
            "Image: /content/drive/MyDrive/Rice_Dataset_2/RiceLeafsDisease/test/leaf_blast/leaf_blast_val (4).jpg\n",
            "Disease: Hispa\n",
            "----------------------\n",
            "Image: /content/drive/MyDrive/Rice_Dataset_2/RiceLeafsDisease/test/leaf_blast/leaf_blast_val (5).jpg\n",
            "Disease: Hispa\n",
            "----------------------\n",
            "Image: /content/drive/MyDrive/Rice_Dataset_2/RiceLeafsDisease/test/leaf_blast/leaf_blast_val (6).jpg\n",
            "Disease: Leaf_Blast\n",
            "----------------------\n",
            "Image: /content/drive/MyDrive/Rice_Dataset_2/RiceLeafsDisease/test/leaf_blast/leaf_blast_val (7).jpg\n",
            "Disease: Leaf_Blast\n",
            "----------------------\n",
            "Image: /content/drive/MyDrive/Rice_Dataset_2/RiceLeafsDisease/test/leaf_blast/leaf_blast_val (8).jpg\n",
            "Disease: Brown_Spot\n",
            "----------------------\n",
            "Image: /content/drive/MyDrive/Rice_Dataset_2/RiceLeafsDisease/test/leaf_blast/leaf_blast_val (9).jpg\n",
            "Disease: Brown_Spot\n",
            "----------------------\n"
          ]
        }
      ],
      "source": [
        "# Load the trained model\n",
        "#model = keras.models.load_model(\"GoogLeNet_re_model.h5\")\n",
        "\n",
        "# Make predictions on the test images\n",
        "predictions = model.predict(test_set)\n",
        "\n",
        "# Get the predicted class labels\n",
        "predicted_labels = np.argmax(predictions, axis=1)\n",
        "\n",
        "# Get the class names\n",
        "class_names = training_set.class_indices\n",
        "\n",
        "# Get the disease labels\n",
        "disease_labels = {\n",
        "    0: \"Brown_Spot\",\n",
        "    1: \"Healthy\",\n",
        "    2: \"Hispa\",\n",
        "    3: \"Leaf_Blast\"\n",
        "}\n",
        "\n",
        "# Print the predictions for each test image\n",
        "for i in range(len(test_set.filenames)):\n",
        "    image_path = os.path.join(test_path, test_set.filenames[i])\n",
        "    image_label = predicted_labels[i]\n",
        "    #image_class = class_names[image_label]\n",
        "    image_disease = disease_labels[image_label]\n",
        "    print(f\"Image: {image_path}\")\n",
        "    #print(f\"Class: {image_class}\")\n",
        "    print(f\"Disease: {image_disease}\")\n",
        "    print(\"----------------------\")"
      ],
      "id": "a6b17dd3"
    }
  ],
  "metadata": {
    "accelerator": "GPU",
    "colab": {
      "provenance": [],
      "gpuType": "T4"
    },
    "kernelspec": {
      "display_name": "Python 3",
      "name": "python3"
    },
    "language_info": {
      "codemirror_mode": {
        "name": "ipython",
        "version": 3
      },
      "file_extension": ".py",
      "mimetype": "text/x-python",
      "name": "python",
      "nbconvert_exporter": "python",
      "pygments_lexer": "ipython3",
      "version": "3.10.9"
    },
    "papermill": {
      "default_parameters": {},
      "duration": 4418.330835,
      "end_time": "2021-05-17T19:03:22.053433",
      "environment_variables": {},
      "exception": null,
      "input_path": "__notebook__.ipynb",
      "output_path": "__notebook__.ipynb",
      "parameters": {},
      "start_time": "2021-05-17T17:49:43.722598",
      "version": "2.3.2"
    }
  },
  "nbformat": 4,
  "nbformat_minor": 5
}