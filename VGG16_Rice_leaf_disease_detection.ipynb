{
  "cells": [
    {
      "cell_type": "markdown",
      "metadata": {
        "papermill": {
          "duration": 0.032811,
          "end_time": "2021-01-06T14:56:36.786070",
          "exception": false,
          "start_time": "2021-01-06T14:56:36.753259",
          "status": "completed"
        },
        "tags": [],
        "id": "jKx8QdvDMVnU"
      },
      "source": [
        "## **VGG16**\n",
        "![](https://miro.medium.com/v2/resize:fit:861/0*6VP81rFoLWp10FcG)\n"
      ]
    },
    {
      "cell_type": "code",
      "source": [
        "from google.colab import drive\n",
        "drive.mount('/content/drive')"
      ],
      "metadata": {
        "id": "sVvTVCZIc4Kc",
        "colab": {
          "base_uri": "https://localhost:8080/"
        },
        "outputId": "bd422201-374c-4100-d9f8-d1c4af18a87d"
      },
      "execution_count": null,
      "outputs": [
        {
          "output_type": "stream",
          "name": "stdout",
          "text": [
            "Mounted at /content/drive\n"
          ]
        }
      ]
    },
    {
      "cell_type": "markdown",
      "metadata": {
        "id": "BYdlRxttMVne"
      },
      "source": [
        "**IMPORTING NECESSARY LIBRARIES FOR TRAINING OF MODEL**"
      ]
    },
    {
      "cell_type": "code",
      "execution_count": null,
      "metadata": {
        "_cell_guid": "b1076dfc-b9ad-4769-8c92-a6c4dae69d19",
        "_uuid": "8f2839f25d086af736a60e9eeb907d3b93b6e0e5",
        "execution": {
          "iopub.execute_input": "2021-01-06T14:56:36.924658Z",
          "iopub.status.busy": "2021-01-06T14:56:36.923922Z",
          "iopub.status.idle": "2021-01-06T14:56:42.793278Z",
          "shell.execute_reply": "2021-01-06T14:56:42.791734Z"
        },
        "papermill": {
          "duration": 5.909112,
          "end_time": "2021-01-06T14:56:42.793410",
          "exception": false,
          "start_time": "2021-01-06T14:56:36.884298",
          "status": "completed"
        },
        "tags": [],
        "id": "SgiC5t7zMVnf"
      },
      "outputs": [],
      "source": [
        "import tensorflow as tf\n",
        "from tensorflow import keras\n",
        "from tensorflow.keras.layers import Input, Lambda, Dense, Flatten\n",
        "from tensorflow.keras.models import Model\n",
        "from tensorflow.keras.applications.vgg16 import VGG16\n",
        "from tensorflow.keras.applications.vgg16 import preprocess_input\n",
        "from tensorflow.keras.preprocessing import image\n",
        "from tensorflow.keras.preprocessing.image import ImageDataGenerator,load_img\n",
        "from tensorflow.keras.models import Sequential\n",
        "import numpy as np\n",
        "import os\n",
        "from glob import glob\n",
        "from sklearn.metrics import confusion_matrix\n"
      ]
    },
    {
      "cell_type": "markdown",
      "metadata": {
        "papermill": {
          "duration": 0.033443,
          "end_time": "2021-01-06T14:56:42.859814",
          "exception": false,
          "start_time": "2021-01-06T14:56:42.826371",
          "status": "completed"
        },
        "tags": [],
        "id": "2T_2q2WhMVnj"
      },
      "source": [
        "### Training & DataLoader\n"
      ]
    },
    {
      "cell_type": "code",
      "execution_count": null,
      "metadata": {
        "_cell_guid": "79c7e3d0-c299-4dcb-8224-4455121ee9b0",
        "_uuid": "d629ff2d2480ee46fbb7e2d37f6b5fab8052498a",
        "execution": {
          "iopub.execute_input": "2021-01-06T14:56:42.935078Z",
          "iopub.status.busy": "2021-01-06T14:56:42.934423Z",
          "iopub.status.idle": "2021-01-06T14:56:42.937708Z",
          "shell.execute_reply": "2021-01-06T14:56:42.937042Z"
        },
        "papermill": {
          "duration": 0.044339,
          "end_time": "2021-01-06T14:56:42.937819",
          "exception": false,
          "start_time": "2021-01-06T14:56:42.893480",
          "status": "completed"
        },
        "tags": [],
        "id": "VHO4xm1TMVnl"
      },
      "outputs": [],
      "source": [
        "# re-size all the images to this\n",
        "IMAGE_SIZE = [224, 224]\n",
        "\n",
        "train_path = '/content/drive/MyDrive/RiceLeafsDisease/train'\n",
        "valid_path = '/content/drive/MyDrive/RiceLeafsDisease/valid/'\n",
        "test_path  = '/content/drive/MyDrive/RiceLeafsDisease/test/'"
      ]
    },
    {
      "cell_type": "markdown",
      "metadata": {
        "papermill": {
          "duration": 0.033158,
          "end_time": "2021-01-06T14:56:43.004724",
          "exception": false,
          "start_time": "2021-01-06T14:56:42.971566",
          "status": "completed"
        },
        "tags": [],
        "id": "d0obu8lzMVnm"
      },
      "source": [
        "### Building the VGG16\n"
      ]
    },
    {
      "cell_type": "code",
      "execution_count": null,
      "metadata": {
        "execution": {
          "iopub.execute_input": "2021-01-06T14:56:43.078497Z",
          "iopub.status.busy": "2021-01-06T14:56:43.077743Z",
          "iopub.status.idle": "2021-01-06T14:56:45.279897Z",
          "shell.execute_reply": "2021-01-06T14:56:45.280429Z"
        },
        "papermill": {
          "duration": 2.243101,
          "end_time": "2021-01-06T14:56:45.280598",
          "exception": false,
          "start_time": "2021-01-06T14:56:43.037497",
          "status": "completed"
        },
        "tags": [],
        "id": "xH37IFPPMVnn",
        "colab": {
          "base_uri": "https://localhost:8080/"
        },
        "outputId": "dc6f6ad2-ad5c-4293-add0-daa71a0f1ef0"
      },
      "outputs": [
        {
          "output_type": "stream",
          "name": "stdout",
          "text": [
            "Downloading data from https://storage.googleapis.com/tensorflow/keras-applications/vgg16/vgg16_weights_tf_dim_ordering_tf_kernels_notop.h5\n",
            "58889256/58889256 [==============================] - 4s 0us/step\n"
          ]
        }
      ],
      "source": [
        "# Import the Vgg 16 library as shown below and add preprocessing layer to the front of VGG\n",
        "# Here we will be using imagenet weights\n",
        "\n",
        "vgg16 = VGG16(input_shape=IMAGE_SIZE + [3], weights='imagenet', include_top=False)\n",
        "\n"
      ]
    },
    {
      "cell_type": "code",
      "execution_count": null,
      "metadata": {
        "execution": {
          "iopub.execute_input": "2021-01-06T14:56:45.358326Z",
          "iopub.status.busy": "2021-01-06T14:56:45.357717Z",
          "iopub.status.idle": "2021-01-06T14:56:45.363784Z",
          "shell.execute_reply": "2021-01-06T14:56:45.364258Z"
        },
        "papermill": {
          "duration": 0.046027,
          "end_time": "2021-01-06T14:56:45.364392",
          "exception": false,
          "start_time": "2021-01-06T14:56:45.318365",
          "status": "completed"
        },
        "tags": [],
        "id": "BDhx_KuDMVno"
      },
      "outputs": [],
      "source": [
        "# don't train existing weights\n",
        "for layer in vgg16.layers:\n",
        "    layer.trainable = False"
      ]
    },
    {
      "cell_type": "code",
      "execution_count": null,
      "metadata": {
        "execution": {
          "iopub.execute_input": "2021-01-06T14:56:45.441802Z",
          "iopub.status.busy": "2021-01-06T14:56:45.441075Z",
          "iopub.status.idle": "2021-01-06T14:56:45.447687Z",
          "shell.execute_reply": "2021-01-06T14:56:45.447053Z"
        },
        "papermill": {
          "duration": 0.046183,
          "end_time": "2021-01-06T14:56:45.447808",
          "exception": false,
          "start_time": "2021-01-06T14:56:45.401625",
          "status": "completed"
        },
        "tags": [],
        "id": "DCHNYZSBMVnq",
        "colab": {
          "base_uri": "https://localhost:8080/"
        },
        "outputId": "d6947c1d-c4f3-439a-dfab-49b9cb032eaa"
      },
      "outputs": [
        {
          "output_type": "stream",
          "name": "stdout",
          "text": [
            "4\n"
          ]
        }
      ],
      "source": [
        "# useful for getting number of output classes\n",
        "folders = glob('/content/drive/MyDrive/RiceLeafsDisease/train/*')\n",
        "print(len(folders))\n"
      ]
    },
    {
      "cell_type": "code",
      "execution_count": null,
      "metadata": {
        "execution": {
          "iopub.execute_input": "2021-01-06T14:56:45.525409Z",
          "iopub.status.busy": "2021-01-06T14:56:45.524459Z",
          "iopub.status.idle": "2021-01-06T14:56:45.532366Z",
          "shell.execute_reply": "2021-01-06T14:56:45.532810Z"
        },
        "papermill": {
          "duration": 0.048255,
          "end_time": "2021-01-06T14:56:45.532957",
          "exception": false,
          "start_time": "2021-01-06T14:56:45.484702",
          "status": "completed"
        },
        "tags": [],
        "id": "XZcE29SKMVnt"
      },
      "outputs": [],
      "source": [
        "# our layers - you can add more if you want\n",
        "x = Flatten()(vgg16.output)"
      ]
    },
    {
      "cell_type": "code",
      "execution_count": null,
      "metadata": {
        "execution": {
          "iopub.execute_input": "2021-01-06T14:56:45.610924Z",
          "iopub.status.busy": "2021-01-06T14:56:45.609942Z",
          "iopub.status.idle": "2021-01-06T14:56:45.628512Z",
          "shell.execute_reply": "2021-01-06T14:56:45.628988Z"
        },
        "papermill": {
          "duration": 0.059337,
          "end_time": "2021-01-06T14:56:45.629163",
          "exception": false,
          "start_time": "2021-01-06T14:56:45.569826",
          "status": "completed"
        },
        "tags": [],
        "id": "5oieEbbIMVnu"
      },
      "outputs": [],
      "source": [
        "prediction = Dense(len(folders), activation='softmax')(x)\n",
        "\n",
        "# create a model object\n",
        "model = Model(inputs=vgg16.input, outputs=prediction)"
      ]
    },
    {
      "cell_type": "markdown",
      "metadata": {
        "papermill": {
          "duration": 0.036823,
          "end_time": "2021-01-06T14:56:45.703240",
          "exception": false,
          "start_time": "2021-01-06T14:56:45.666417",
          "status": "completed"
        },
        "tags": [],
        "id": "kghj1GrRMVnv"
      },
      "source": [
        "\n",
        "### Summary\n"
      ]
    },
    {
      "cell_type": "code",
      "execution_count": null,
      "metadata": {
        "execution": {
          "iopub.execute_input": "2021-01-06T14:56:45.780793Z",
          "iopub.status.busy": "2021-01-06T14:56:45.779763Z",
          "iopub.status.idle": "2021-01-06T14:56:45.793228Z",
          "shell.execute_reply": "2021-01-06T14:56:45.793945Z"
        },
        "papermill": {
          "duration": 0.053947,
          "end_time": "2021-01-06T14:56:45.794159",
          "exception": false,
          "start_time": "2021-01-06T14:56:45.740212",
          "status": "completed"
        },
        "tags": [],
        "id": "EJV7QjiKMVnw",
        "colab": {
          "base_uri": "https://localhost:8080/"
        },
        "outputId": "41210517-c0ac-47c9-f084-283bf5dea52f"
      },
      "outputs": [
        {
          "output_type": "stream",
          "name": "stdout",
          "text": [
            "Model: \"model\"\n",
            "_________________________________________________________________\n",
            " Layer (type)                Output Shape              Param #   \n",
            "=================================================================\n",
            " input_1 (InputLayer)        [(None, 224, 224, 3)]     0         \n",
            "                                                                 \n",
            " block1_conv1 (Conv2D)       (None, 224, 224, 64)      1792      \n",
            "                                                                 \n",
            " block1_conv2 (Conv2D)       (None, 224, 224, 64)      36928     \n",
            "                                                                 \n",
            " block1_pool (MaxPooling2D)  (None, 112, 112, 64)      0         \n",
            "                                                                 \n",
            " block2_conv1 (Conv2D)       (None, 112, 112, 128)     73856     \n",
            "                                                                 \n",
            " block2_conv2 (Conv2D)       (None, 112, 112, 128)     147584    \n",
            "                                                                 \n",
            " block2_pool (MaxPooling2D)  (None, 56, 56, 128)       0         \n",
            "                                                                 \n",
            " block3_conv1 (Conv2D)       (None, 56, 56, 256)       295168    \n",
            "                                                                 \n",
            " block3_conv2 (Conv2D)       (None, 56, 56, 256)       590080    \n",
            "                                                                 \n",
            " block3_conv3 (Conv2D)       (None, 56, 56, 256)       590080    \n",
            "                                                                 \n",
            " block3_pool (MaxPooling2D)  (None, 28, 28, 256)       0         \n",
            "                                                                 \n",
            " block4_conv1 (Conv2D)       (None, 28, 28, 512)       1180160   \n",
            "                                                                 \n",
            " block4_conv2 (Conv2D)       (None, 28, 28, 512)       2359808   \n",
            "                                                                 \n",
            " block4_conv3 (Conv2D)       (None, 28, 28, 512)       2359808   \n",
            "                                                                 \n",
            " block4_pool (MaxPooling2D)  (None, 14, 14, 512)       0         \n",
            "                                                                 \n",
            " block5_conv1 (Conv2D)       (None, 14, 14, 512)       2359808   \n",
            "                                                                 \n",
            " block5_conv2 (Conv2D)       (None, 14, 14, 512)       2359808   \n",
            "                                                                 \n",
            " block5_conv3 (Conv2D)       (None, 14, 14, 512)       2359808   \n",
            "                                                                 \n",
            " block5_pool (MaxPooling2D)  (None, 7, 7, 512)         0         \n",
            "                                                                 \n",
            " flatten (Flatten)           (None, 25088)             0         \n",
            "                                                                 \n",
            " dense (Dense)               (None, 4)                 100356    \n",
            "                                                                 \n",
            "=================================================================\n",
            "Total params: 14,815,044\n",
            "Trainable params: 100,356\n",
            "Non-trainable params: 14,714,688\n",
            "_________________________________________________________________\n"
          ]
        }
      ],
      "source": [
        "# view the structure of the model\n",
        "model.summary()"
      ]
    },
    {
      "cell_type": "code",
      "execution_count": null,
      "metadata": {
        "execution": {
          "iopub.execute_input": "2021-01-06T14:56:45.882783Z",
          "iopub.status.busy": "2021-01-06T14:56:45.881726Z",
          "iopub.status.idle": "2021-01-06T14:56:45.887256Z",
          "shell.execute_reply": "2021-01-06T14:56:45.887716Z"
        },
        "papermill": {
          "duration": 0.055601,
          "end_time": "2021-01-06T14:56:45.887857",
          "exception": false,
          "start_time": "2021-01-06T14:56:45.832256",
          "status": "completed"
        },
        "tags": [],
        "id": "a_u73ZZoMVnw"
      },
      "outputs": [],
      "source": [
        "# tell the model what cost and optimization method to use\n",
        "model.compile(\n",
        "  loss='categorical_crossentropy',\n",
        "  optimizer='adam',\n",
        "  metrics=['accuracy']\n",
        ")"
      ]
    },
    {
      "cell_type": "markdown",
      "metadata": {
        "papermill": {
          "duration": 0.037138,
          "end_time": "2021-01-06T14:56:45.963566",
          "exception": false,
          "start_time": "2021-01-06T14:56:45.926428",
          "status": "completed"
        },
        "tags": [],
        "id": "q0zpYfRZMVnx"
      },
      "source": [
        "### Training The VGG16\n"
      ]
    },
    {
      "cell_type": "code",
      "execution_count": null,
      "metadata": {
        "execution": {
          "iopub.execute_input": "2021-01-06T14:56:46.046056Z",
          "iopub.status.busy": "2021-01-06T14:56:46.044947Z",
          "iopub.status.idle": "2021-01-06T14:56:46.048244Z",
          "shell.execute_reply": "2021-01-06T14:56:46.047487Z"
        },
        "papermill": {
          "duration": 0.04722,
          "end_time": "2021-01-06T14:56:46.048357",
          "exception": false,
          "start_time": "2021-01-06T14:56:46.001137",
          "status": "completed"
        },
        "tags": [],
        "id": "6Ch7qdrOMVnx"
      },
      "outputs": [],
      "source": [
        "# Use the Image Data Generator to import the images from the dataset\n",
        "from tensorflow.keras.preprocessing.image import ImageDataGenerator\n",
        "\n",
        "train_datagen = ImageDataGenerator(rescale = 1./255,\n",
        "                                   shear_range = 0.2,\n",
        "                                   zoom_range = 0.2,\n",
        "                                   horizontal_flip = True)\n",
        "\n",
        "valid_datagen = ImageDataGenerator(rescale = 1./255)\n",
        "test_datagen = ImageDataGenerator(rescale = 1./255)"
      ]
    },
    {
      "cell_type": "code",
      "execution_count": null,
      "metadata": {
        "execution": {
          "iopub.execute_input": "2021-01-06T14:56:46.130832Z",
          "iopub.status.busy": "2021-01-06T14:56:46.129825Z",
          "iopub.status.idle": "2021-01-06T14:56:46.441358Z",
          "shell.execute_reply": "2021-01-06T14:56:46.440745Z"
        },
        "papermill": {
          "duration": 0.35456,
          "end_time": "2021-01-06T14:56:46.441476",
          "exception": false,
          "start_time": "2021-01-06T14:56:46.086916",
          "status": "completed"
        },
        "tags": [],
        "id": "eW2VQlGRMVny",
        "colab": {
          "base_uri": "https://localhost:8080/"
        },
        "outputId": "46a5dfe1-97ac-431f-dd3d-c89cb2e3c6e0"
      },
      "outputs": [
        {
          "output_type": "stream",
          "name": "stdout",
          "text": [
            "Found 1400 images belonging to 4 classes.\n"
          ]
        }
      ],
      "source": [
        "# Make sure you provide the same target size as initialied for the image size\n",
        "training_set = train_datagen.flow_from_directory(train_path,\n",
        "                                                 target_size = (224, 224),\n",
        "                                                 batch_size = 32,\n",
        "                                                 class_mode = 'categorical')"
      ]
    },
    {
      "cell_type": "code",
      "execution_count": null,
      "metadata": {
        "execution": {
          "iopub.execute_input": "2021-01-06T14:56:46.525546Z",
          "iopub.status.busy": "2021-01-06T14:56:46.524526Z",
          "iopub.status.idle": "2021-01-06T14:56:46.631286Z",
          "shell.execute_reply": "2021-01-06T14:56:46.630554Z"
        },
        "papermill": {
          "duration": 0.151079,
          "end_time": "2021-01-06T14:56:46.631417",
          "exception": false,
          "start_time": "2021-01-06T14:56:46.480338",
          "status": "completed"
        },
        "tags": [],
        "id": "eeqLEoxyMVnz",
        "colab": {
          "base_uri": "https://localhost:8080/"
        },
        "outputId": "605d6254-c862-43c6-bd23-b6308208daaf"
      },
      "outputs": [
        {
          "output_type": "stream",
          "name": "stdout",
          "text": [
            "Found 352 images belonging to 4 classes.\n"
          ]
        }
      ],
      "source": [
        "valid_set = valid_datagen.flow_from_directory(valid_path,\n",
        "                                            target_size = (224, 224),\n",
        "                                            batch_size = 32,\n",
        "                                            class_mode = 'categorical')"
      ]
    },
    {
      "cell_type": "code",
      "execution_count": null,
      "metadata": {
        "id": "sMNOj42aMVnz",
        "colab": {
          "base_uri": "https://localhost:8080/"
        },
        "outputId": "7c4db637-204b-440f-ba43-f5f533749456"
      },
      "outputs": [
        {
          "output_type": "stream",
          "name": "stdout",
          "text": [
            "Found 120 images belonging to 4 classes.\n"
          ]
        }
      ],
      "source": [
        "test_set = test_datagen.flow_from_directory(test_path,\n",
        "                                            target_size = (224, 224),\n",
        "                                            batch_size = 32,\n",
        "                                            class_mode = 'categorical')"
      ]
    },
    {
      "cell_type": "code",
      "execution_count": null,
      "metadata": {
        "id": "HYnLl1DfMVnz",
        "colab": {
          "base_uri": "https://localhost:8080/"
        },
        "outputId": "df907927-176d-4e6d-83c8-62e36a935b98"
      },
      "outputs": [
        {
          "output_type": "stream",
          "name": "stdout",
          "text": [
            "['brown_spot', 'healthy', 'hispa', 'leaf_blast']\n"
          ]
        }
      ],
      "source": [
        "#Printing the classes.\n",
        "class_dict = training_set.class_indices\n",
        "(class_dict)\n",
        "li = list(class_dict.keys())\n",
        "print(li)"
      ]
    },
    {
      "cell_type": "code",
      "execution_count": null,
      "metadata": {
        "execution": {
          "iopub.execute_input": "2021-01-06T14:56:46.716675Z",
          "iopub.status.busy": "2021-01-06T14:56:46.715983Z",
          "iopub.status.idle": "2021-01-06T15:23:30.755086Z",
          "shell.execute_reply": "2021-01-06T15:23:30.754301Z"
        },
        "papermill": {
          "duration": 1604.084727,
          "end_time": "2021-01-06T15:23:30.755435",
          "exception": false,
          "start_time": "2021-01-06T14:56:46.670708",
          "status": "completed"
        },
        "tags": [],
        "id": "4ryqxBZBMVnz",
        "outputId": "865ff082-a179-4afc-a326-b75c40015970",
        "colab": {
          "base_uri": "https://localhost:8080/"
        }
      },
      "outputs": [
        {
          "output_type": "stream",
          "name": "stdout",
          "text": [
            "Epoch 1/50\n",
            "44/44 [==============================] - 952s 21s/step - loss: 1.2288 - accuracy: 0.4800 - val_loss: 0.8561 - val_accuracy: 0.6534\n",
            "Epoch 2/50\n",
            "44/44 [==============================] - 113s 3s/step - loss: 0.8514 - accuracy: 0.6479 - val_loss: 0.9174 - val_accuracy: 0.6705\n",
            "Epoch 3/50\n",
            "44/44 [==============================] - 111s 3s/step - loss: 0.7421 - accuracy: 0.7057 - val_loss: 0.8804 - val_accuracy: 0.6591\n",
            "Epoch 4/50\n",
            "44/44 [==============================] - 112s 3s/step - loss: 0.6370 - accuracy: 0.7529 - val_loss: 0.6177 - val_accuracy: 0.7670\n",
            "Epoch 5/50\n",
            "44/44 [==============================] - 112s 3s/step - loss: 0.5783 - accuracy: 0.7779 - val_loss: 0.6190 - val_accuracy: 0.7670\n",
            "Epoch 6/50\n",
            "44/44 [==============================] - 112s 3s/step - loss: 0.5408 - accuracy: 0.7979 - val_loss: 0.6349 - val_accuracy: 0.7557\n",
            "Epoch 7/50\n",
            "44/44 [==============================] - 113s 3s/step - loss: 0.4860 - accuracy: 0.8314 - val_loss: 0.6286 - val_accuracy: 0.7500\n",
            "Epoch 8/50\n",
            "44/44 [==============================] - 111s 3s/step - loss: 0.5405 - accuracy: 0.8007 - val_loss: 0.7800 - val_accuracy: 0.7415\n",
            "Epoch 9/50\n",
            "44/44 [==============================] - 111s 3s/step - loss: 0.4608 - accuracy: 0.8286 - val_loss: 0.6283 - val_accuracy: 0.7670\n",
            "Epoch 10/50\n",
            "44/44 [==============================] - 112s 3s/step - loss: 0.4069 - accuracy: 0.8457 - val_loss: 0.5659 - val_accuracy: 0.7926\n",
            "Epoch 11/50\n",
            "44/44 [==============================] - 112s 3s/step - loss: 0.4100 - accuracy: 0.8507 - val_loss: 0.5573 - val_accuracy: 0.7983\n",
            "Epoch 12/50\n",
            "44/44 [==============================] - 111s 3s/step - loss: 0.3944 - accuracy: 0.8693 - val_loss: 0.6258 - val_accuracy: 0.7642\n",
            "Epoch 13/50\n",
            "44/44 [==============================] - 112s 3s/step - loss: 0.3806 - accuracy: 0.8586 - val_loss: 0.5180 - val_accuracy: 0.8295\n",
            "Epoch 14/50\n",
            "44/44 [==============================] - 114s 3s/step - loss: 0.3152 - accuracy: 0.8907 - val_loss: 0.6689 - val_accuracy: 0.7614\n",
            "Epoch 15/50\n",
            "44/44 [==============================] - 111s 3s/step - loss: 0.3347 - accuracy: 0.8686 - val_loss: 0.5615 - val_accuracy: 0.8153\n",
            "Epoch 16/50\n",
            "44/44 [==============================] - 115s 3s/step - loss: 0.3044 - accuracy: 0.8964 - val_loss: 0.5528 - val_accuracy: 0.8125\n",
            "Epoch 17/50\n",
            "44/44 [==============================] - 112s 3s/step - loss: 0.3298 - accuracy: 0.8779 - val_loss: 0.6445 - val_accuracy: 0.7983\n",
            "Epoch 18/50\n",
            "44/44 [==============================] - 114s 3s/step - loss: 0.3013 - accuracy: 0.8893 - val_loss: 0.5599 - val_accuracy: 0.8153\n",
            "Epoch 19/50\n",
            "44/44 [==============================] - 112s 3s/step - loss: 0.2594 - accuracy: 0.9229 - val_loss: 0.4582 - val_accuracy: 0.8494\n",
            "Epoch 20/50\n",
            "44/44 [==============================] - 112s 3s/step - loss: 0.3314 - accuracy: 0.8821 - val_loss: 0.5329 - val_accuracy: 0.8153\n",
            "Epoch 21/50\n",
            "44/44 [==============================] - 110s 3s/step - loss: 0.3334 - accuracy: 0.8793 - val_loss: 0.5221 - val_accuracy: 0.8210\n",
            "Epoch 22/50\n",
            "44/44 [==============================] - 114s 3s/step - loss: 0.2486 - accuracy: 0.9179 - val_loss: 0.6149 - val_accuracy: 0.7926\n",
            "Epoch 23/50\n",
            "44/44 [==============================] - 115s 3s/step - loss: 0.2731 - accuracy: 0.9064 - val_loss: 0.7733 - val_accuracy: 0.7585\n",
            "Epoch 24/50\n",
            "44/44 [==============================] - 111s 3s/step - loss: 0.2577 - accuracy: 0.9150 - val_loss: 0.7705 - val_accuracy: 0.7443\n",
            "Epoch 25/50\n",
            "44/44 [==============================] - 112s 3s/step - loss: 0.2307 - accuracy: 0.9243 - val_loss: 0.6425 - val_accuracy: 0.8068\n",
            "Epoch 26/50\n",
            "44/44 [==============================] - 112s 3s/step - loss: 0.2395 - accuracy: 0.9107 - val_loss: 0.5266 - val_accuracy: 0.8267\n",
            "Epoch 27/50\n",
            "44/44 [==============================] - 112s 3s/step - loss: 0.2372 - accuracy: 0.9264 - val_loss: 0.6769 - val_accuracy: 0.7898\n",
            "Epoch 28/50\n",
            "44/44 [==============================] - 110s 3s/step - loss: 0.1933 - accuracy: 0.9414 - val_loss: 0.5677 - val_accuracy: 0.8210\n",
            "Epoch 29/50\n",
            "44/44 [==============================] - 111s 3s/step - loss: 0.2351 - accuracy: 0.9271 - val_loss: 0.6597 - val_accuracy: 0.7699\n",
            "Epoch 30/50\n",
            "44/44 [==============================] - 112s 3s/step - loss: 0.2398 - accuracy: 0.9143 - val_loss: 0.6639 - val_accuracy: 0.7926\n",
            "Epoch 31/50\n",
            "44/44 [==============================] - 110s 3s/step - loss: 0.1965 - accuracy: 0.9357 - val_loss: 0.5966 - val_accuracy: 0.8267\n",
            "Epoch 32/50\n",
            "44/44 [==============================] - 111s 3s/step - loss: 0.2137 - accuracy: 0.9214 - val_loss: 0.5825 - val_accuracy: 0.8381\n",
            "Epoch 33/50\n",
            "44/44 [==============================] - 112s 3s/step - loss: 0.1811 - accuracy: 0.9457 - val_loss: 0.8776 - val_accuracy: 0.7443\n",
            "Epoch 34/50\n",
            "44/44 [==============================] - 111s 3s/step - loss: 0.3077 - accuracy: 0.8714 - val_loss: 0.5880 - val_accuracy: 0.8182\n",
            "Epoch 35/50\n",
            "44/44 [==============================] - 110s 3s/step - loss: 0.1937 - accuracy: 0.9257 - val_loss: 0.6738 - val_accuracy: 0.8068\n",
            "Epoch 36/50\n",
            "44/44 [==============================] - 111s 3s/step - loss: 0.2281 - accuracy: 0.9193 - val_loss: 0.5093 - val_accuracy: 0.8267\n",
            "Epoch 37/50\n",
            "44/44 [==============================] - 111s 3s/step - loss: 0.1869 - accuracy: 0.9414 - val_loss: 0.4886 - val_accuracy: 0.8438\n",
            "Epoch 38/50\n",
            "44/44 [==============================] - 110s 3s/step - loss: 0.2123 - accuracy: 0.9236 - val_loss: 0.8004 - val_accuracy: 0.7642\n",
            "Epoch 39/50\n",
            "44/44 [==============================] - 112s 3s/step - loss: 0.1781 - accuracy: 0.9393 - val_loss: 0.7754 - val_accuracy: 0.7756\n",
            "Epoch 40/50\n",
            "44/44 [==============================] - 114s 3s/step - loss: 0.1601 - accuracy: 0.9514 - val_loss: 0.5887 - val_accuracy: 0.8267\n",
            "Epoch 41/50\n",
            "44/44 [==============================] - 110s 3s/step - loss: 0.1457 - accuracy: 0.9629 - val_loss: 0.8809 - val_accuracy: 0.7784\n",
            "Epoch 42/50\n",
            "44/44 [==============================] - 112s 3s/step - loss: 0.1600 - accuracy: 0.9486 - val_loss: 0.7785 - val_accuracy: 0.7955\n",
            "Epoch 43/50\n",
            "44/44 [==============================] - 111s 3s/step - loss: 0.1723 - accuracy: 0.9429 - val_loss: 0.6146 - val_accuracy: 0.8210\n",
            "Epoch 44/50\n",
            "44/44 [==============================] - 110s 3s/step - loss: 0.1555 - accuracy: 0.9493 - val_loss: 0.6151 - val_accuracy: 0.8153\n",
            "Epoch 45/50\n",
            "44/44 [==============================] - 115s 3s/step - loss: 0.1238 - accuracy: 0.9707 - val_loss: 0.6356 - val_accuracy: 0.8153\n",
            "Epoch 46/50\n",
            "44/44 [==============================] - 113s 3s/step - loss: 0.1295 - accuracy: 0.9586 - val_loss: 0.7870 - val_accuracy: 0.7898\n",
            "Epoch 47/50\n",
            "44/44 [==============================] - 114s 3s/step - loss: 0.1325 - accuracy: 0.9664 - val_loss: 0.7022 - val_accuracy: 0.8040\n",
            "Epoch 48/50\n",
            "44/44 [==============================] - 111s 3s/step - loss: 0.1470 - accuracy: 0.9536 - val_loss: 0.6288 - val_accuracy: 0.8210\n",
            "Epoch 49/50\n",
            "44/44 [==============================] - 114s 3s/step - loss: 0.1446 - accuracy: 0.9550 - val_loss: 0.5133 - val_accuracy: 0.8523\n",
            "Epoch 50/50\n",
            "44/44 [==============================] - 114s 3s/step - loss: 0.1226 - accuracy: 0.9643 - val_loss: 0.7533 - val_accuracy: 0.7955\n"
          ]
        }
      ],
      "source": [
        "# fit the model\n",
        "# Run the cell. It will take some time to execute\n",
        "r = model.fit(\n",
        "  training_set,\n",
        "  validation_data=valid_set,\n",
        "  epochs= 50,\n",
        "  steps_per_epoch=len(training_set),\n",
        "  validation_steps=len(valid_set)\n",
        ")"
      ]
    },
    {
      "cell_type": "code",
      "execution_count": null,
      "metadata": {
        "id": "svVK34KvMVn0"
      },
      "outputs": [],
      "source": [
        "# Save the trained model\n",
        "dir = '/content/gdrive/My Drive/SDP'\n",
        "model.save(f\"{dir}/VGG16_model.h5\")"
      ]
    },
    {
      "cell_type": "code",
      "execution_count": null,
      "metadata": {
        "id": "x43tcm1PMVn0",
        "colab": {
          "base_uri": "https://localhost:8080/"
        },
        "outputId": "674666e5-2c3e-4b82-f0a6-4fa3cbecbb1e"
      },
      "outputs": [
        {
          "output_type": "stream",
          "name": "stdout",
          "text": [
            "[INFO] Calculating model accuracy\n",
            "11/11 [==============================] - 19s 2s/step - loss: 0.7533 - accuracy: 0.7955\n",
            "Valid Accuracy: 79.54545617103577\n"
          ]
        }
      ],
      "source": [
        "#Finding the accuracy\n",
        "print(\"[INFO] Calculating model accuracy\")\n",
        "scores = model.evaluate(valid_set, batch_size= 32 )\n",
        "print(f\"Valid Accuracy: {scores[1]*100}\")"
      ]
    },
    {
      "cell_type": "code",
      "source": [
        "#Finding the accuracy\n",
        "print(\"[INFO] Calculating model accuracy\")\n",
        "scores = model.evaluate(test_set, batch_size= 32 )\n",
        "print(f\"Test Accuracy: {scores[1]*100}\")"
      ],
      "metadata": {
        "id": "vOr-DWj0lmi0",
        "colab": {
          "base_uri": "https://localhost:8080/"
        },
        "outputId": "2ee05245-a177-4d4e-f735-0faf51779515"
      },
      "execution_count": null,
      "outputs": [
        {
          "output_type": "stream",
          "name": "stdout",
          "text": [
            "[INFO] Calculating model accuracy\n",
            "4/4 [==============================] - 66s 20s/step - loss: 1.4680 - accuracy: 0.7500\n",
            "Test Accuracy: 75.0\n"
          ]
        }
      ]
    },
    {
      "cell_type": "code",
      "execution_count": null,
      "metadata": {
        "execution": {
          "iopub.execute_input": "2021-01-06T15:23:32.137356Z",
          "iopub.status.busy": "2021-01-06T15:23:32.136575Z",
          "iopub.status.idle": "2021-01-06T15:23:32.517478Z",
          "shell.execute_reply": "2021-01-06T15:23:32.518018Z"
        },
        "papermill": {
          "duration": 0.518722,
          "end_time": "2021-01-06T15:23:32.518176",
          "exception": false,
          "start_time": "2021-01-06T15:23:31.999454",
          "status": "completed"
        },
        "tags": [],
        "id": "GtaE-oYaMVn1",
        "colab": {
          "base_uri": "https://localhost:8080/",
          "height": 992
        },
        "outputId": "d0fccf79-0287-4cd6-dbc0-b2d93eaf9286"
      },
      "outputs": [
        {
          "output_type": "stream",
          "name": "stdout",
          "text": [
            "\n"
          ]
        },
        {
          "output_type": "display_data",
          "data": {
            "text/plain": [
              "<Figure size 600x500 with 1 Axes>"
            ],
            "image/png": "[encoded data removed]"
          },
          "metadata": {}
        },
        {
          "output_type": "display_data",
          "data": {
            "text/plain": [
              "<Figure size 600x500 with 1 Axes>"
            ],
            "image/png": "[encoded data removed]"
          },
          "metadata": {}
        }
      ],
      "source": [
        "import seaborn as sns\n",
        "from matplotlib import pyplot as plt\n",
        "\n",
        "sns.set()\n",
        "acc = [0.] + r.history['accuracy']\n",
        "val_acc = [0.] + r.history['val_accuracy']\n",
        "\n",
        "loss = r.history['loss']\n",
        "val_loss = r.history['val_loss']\n",
        "\n",
        "plt.figure(figsize=(6, 5))\n",
        "plt.plot(acc, label='Training Accuracy')\n",
        "plt.plot(val_acc, label='Validation Accuracy')\n",
        "plt.legend(loc='lower right')\n",
        "plt.ylabel('Accuracy')\n",
        "plt.xlabel('epoch')\n",
        "plt.ylim([min(plt.ylim()),1])\n",
        "plt.title('Training and Validation Accuracy')\n",
        "plt.savefig('VGG16_acc')\n",
        "\n",
        "print()\n",
        "plt.figure(figsize=(6, 5))\n",
        "plt.plot(loss, label='Training Loss')\n",
        "plt.plot(val_loss, label='Validation Loss')\n",
        "plt.legend(loc='upper right')\n",
        "plt.ylabel('Loss_value')\n",
        "plt.ylim([0,3.0])\n",
        "plt.title('Training and Validation Loss')\n",
        "plt.xlabel('epoch')\n",
        "plt.savefig('VGG16_Loss')\n",
        "\n",
        "plt.show()"
      ]
    },
    {
      "cell_type": "markdown",
      "source": [
        "F1 Score and Confusion Matrix"
      ],
      "metadata": {
        "id": "YqMA4ZOSm80a"
      }
    },
    {
      "cell_type": "code",
      "source": [
        "from sklearn.metrics import accuracy_score, classification_report\n",
        "# Get the predicted labels for the validation set### Libraries\n",
        "# Load the trained model\n",
        "#model = keras.models.load_model(\"RESNET50_model.h5\")\n",
        "\n",
        "test_step_sz = test_set.n/test_set.batch_size\n",
        "test_images, test_labels = [], []\n",
        "for i in np.arange(test_step_sz):\n",
        "    batch_images, batch_labels = test_set.next()\n",
        "    test_images.append(batch_images)\n",
        "    test_labels.append(batch_labels)\n",
        "\n",
        "\n",
        "test_images = np.concatenate(test_images)\n",
        "test_labels = np.concatenate(test_labels)\n",
        "\n",
        "\n",
        "\n",
        "y_pred = model.predict(test_images)\n",
        "y_pred = np.argmax(y_pred, axis=1)\n",
        "\n",
        "# Get the true labels for the validation set\n",
        "y_true = np.argmax(test_labels, axis =1)\n",
        "\n",
        "# Calculate classification metrics\n",
        "report = classification_report(y_true, y_pred)\n",
        "print(report)\n",
        "\n",
        "\n",
        "\n",
        "\n",
        "# Create confusion matrix\n",
        "cm = confusion_matrix(y_true, y_pred)\n",
        "\n",
        "# Get class labels\n",
        "class_labels = list(valid_set.class_indices.keys())\n",
        "\n",
        "# Plot confusion matrix\n",
        "plt.figure(figsize=(6, 4))\n",
        "sns.heatmap(cm, annot=True, fmt=\"d\", cmap='Blues', xticklabels=class_labels, yticklabels=class_labels)\n",
        "plt.title(\"Confusion Matrix\")\n",
        "plt.xlabel(\"Predicted Labels\")\n",
        "plt.ylabel(\"True Labels\")\n",
        "plt.show()\n",
        "plt.savefig(\"ResNet50_ConfusionMatrix.png\")\n",
        "\n"
      ],
      "metadata": {
        "id": "tWsmubn_m6lC",
        "colab": {
          "base_uri": "https://localhost:8080/",
          "height": 646
        },
        "outputId": "d09cccb7-1a8d-477c-e5e7-a5be4191d52d"
      },
      "execution_count": null,
      "outputs": [
        {
          "output_type": "stream",
          "name": "stdout",
          "text": [
            "4/4 [==============================] - 1s 140ms/step\n",
            "              precision    recall  f1-score   support\n",
            "\n",
            "           0       1.00      0.83      0.91        30\n",
            "           1       0.85      0.57      0.68        30\n",
            "           2       0.55      1.00      0.71        30\n",
            "           3       0.90      0.60      0.72        30\n",
            "\n",
            "    accuracy                           0.75       120\n",
            "   macro avg       0.82      0.75      0.75       120\n",
            "weighted avg       0.82      0.75      0.75       120\n",
            "\n"
          ]
        },
        {
          "output_type": "display_data",
          "data": {
            "text/plain": [
              "<Figure size 600x400 with 2 Axes>"
            ],
            "image/png": "[encoded data removed]"
          },
          "metadata": {}
        },
        {
          "output_type": "display_data",
          "data": {
            "text/plain": [
              "<Figure size 640x480 with 0 Axes>"
            ]
          },
          "metadata": {}
        }
      ]
    },
    {
      "cell_type": "markdown",
      "metadata": {
        "papermill": {
          "duration": 0.121673,
          "end_time": "2021-01-06T15:23:31.009879",
          "exception": false,
          "start_time": "2021-01-06T15:23:30.888206",
          "status": "completed"
        },
        "tags": [],
        "id": "b9vnt_3IMVn0"
      },
      "source": [
        "### Testing\n"
      ]
    },
    {
      "cell_type": "code",
      "execution_count": null,
      "metadata": {
        "execution": {
          "iopub.execute_input": "2021-01-06T15:23:31.260486Z",
          "iopub.status.busy": "2021-01-06T15:23:31.259669Z",
          "iopub.status.idle": "2021-01-06T15:23:31.629884Z",
          "shell.execute_reply": "2021-01-06T15:23:31.629158Z"
        },
        "papermill": {
          "duration": 0.498768,
          "end_time": "2021-01-06T15:23:31.629999",
          "exception": false,
          "start_time": "2021-01-06T15:23:31.131231",
          "status": "completed"
        },
        "tags": [],
        "id": "WpseCZ35MVn0",
        "colab": {
          "base_uri": "https://localhost:8080/",
          "height": 391
        },
        "outputId": "5387155b-0d72-4326-f73f-b8eefdbced79"
      },
      "outputs": [
        {
          "output_type": "error",
          "ename": "FileNotFoundError",
          "evalue": "ignored",
          "traceback": [
            "\u001b[0;31m---------------------------------------------------------------------------\u001b[0m",
            "\u001b[0;31mFileNotFoundError\u001b[0m                         Traceback (most recent call last)",
            "\u001b[0;32m<ipython-input-23-1be2f790609b>\u001b[0m in \u001b[0;36m<cell line: 7>\u001b[0;34m()\u001b[0m\n\u001b[1;32m      5\u001b[0m \u001b[0;34m\u001b[0m\u001b[0m\n\u001b[1;32m      6\u001b[0m \u001b[0mimg_path\u001b[0m\u001b[0;34m=\u001b[0m \u001b[0;34m'C:/Users/Dell/Desktop/SDP FINAL/Rice_Dataset_2/RiceLeafsDisease/test/healthy/IMG_3233.jpg'\u001b[0m\u001b[0;34m\u001b[0m\u001b[0;34m\u001b[0m\u001b[0m\n\u001b[0;32m----> 7\u001b[0;31m \u001b[0mtest_image\u001b[0m \u001b[0;34m=\u001b[0m \u001b[0mimage\u001b[0m\u001b[0;34m.\u001b[0m\u001b[0mload_img\u001b[0m\u001b[0;34m(\u001b[0m\u001b[0mimg_path\u001b[0m\u001b[0;34m,\u001b[0m \u001b[0mtarget_size\u001b[0m \u001b[0;34m=\u001b[0m \u001b[0;34m(\u001b[0m\u001b[0;36m224\u001b[0m\u001b[0;34m,\u001b[0m\u001b[0;36m224\u001b[0m\u001b[0;34m)\u001b[0m\u001b[0;34m)\u001b[0m\u001b[0;34m\u001b[0m\u001b[0;34m\u001b[0m\u001b[0m\n\u001b[0m\u001b[1;32m      8\u001b[0m \u001b[0mimage\u001b[0m \u001b[0;34m=\u001b[0m \u001b[0mimage\u001b[0m\u001b[0;34m.\u001b[0m\u001b[0mimg_to_array\u001b[0m\u001b[0;34m(\u001b[0m\u001b[0mtest_image\u001b[0m\u001b[0;34m)\u001b[0m\u001b[0;34m\u001b[0m\u001b[0;34m\u001b[0m\u001b[0m\n\u001b[1;32m      9\u001b[0m \u001b[0mimage\u001b[0m \u001b[0;34m=\u001b[0m \u001b[0mimage\u001b[0m\u001b[0;34m/\u001b[0m\u001b[0;36m255\u001b[0m\u001b[0;34m\u001b[0m\u001b[0;34m\u001b[0m\u001b[0m\n",
            "\u001b[0;32m/usr/local/lib/python3.10/dist-packages/keras/utils/image_utils.py\u001b[0m in \u001b[0;36mload_img\u001b[0;34m(path, grayscale, color_mode, target_size, interpolation, keep_aspect_ratio)\u001b[0m\n\u001b[1;32m    420\u001b[0m         \u001b[0;32mif\u001b[0m \u001b[0misinstance\u001b[0m\u001b[0;34m(\u001b[0m\u001b[0mpath\u001b[0m\u001b[0;34m,\u001b[0m \u001b[0mpathlib\u001b[0m\u001b[0;34m.\u001b[0m\u001b[0mPath\u001b[0m\u001b[0;34m)\u001b[0m\u001b[0;34m:\u001b[0m\u001b[0;34m\u001b[0m\u001b[0;34m\u001b[0m\u001b[0m\n\u001b[1;32m    421\u001b[0m             \u001b[0mpath\u001b[0m \u001b[0;34m=\u001b[0m \u001b[0mstr\u001b[0m\u001b[0;34m(\u001b[0m\u001b[0mpath\u001b[0m\u001b[0;34m.\u001b[0m\u001b[0mresolve\u001b[0m\u001b[0;34m(\u001b[0m\u001b[0;34m)\u001b[0m\u001b[0;34m)\u001b[0m\u001b[0;34m\u001b[0m\u001b[0;34m\u001b[0m\u001b[0m\n\u001b[0;32m--> 422\u001b[0;31m         \u001b[0;32mwith\u001b[0m \u001b[0mopen\u001b[0m\u001b[0;34m(\u001b[0m\u001b[0mpath\u001b[0m\u001b[0;34m,\u001b[0m \u001b[0;34m\"rb\"\u001b[0m\u001b[0;34m)\u001b[0m \u001b[0;32mas\u001b[0m \u001b[0mf\u001b[0m\u001b[0;34m:\u001b[0m\u001b[0;34m\u001b[0m\u001b[0;34m\u001b[0m\u001b[0m\n\u001b[0m\u001b[1;32m    423\u001b[0m             \u001b[0mimg\u001b[0m \u001b[0;34m=\u001b[0m \u001b[0mpil_image\u001b[0m\u001b[0;34m.\u001b[0m\u001b[0mopen\u001b[0m\u001b[0;34m(\u001b[0m\u001b[0mio\u001b[0m\u001b[0;34m.\u001b[0m\u001b[0mBytesIO\u001b[0m\u001b[0;34m(\u001b[0m\u001b[0mf\u001b[0m\u001b[0;34m.\u001b[0m\u001b[0mread\u001b[0m\u001b[0;34m(\u001b[0m\u001b[0;34m)\u001b[0m\u001b[0;34m)\u001b[0m\u001b[0;34m)\u001b[0m\u001b[0;34m\u001b[0m\u001b[0;34m\u001b[0m\u001b[0m\n\u001b[1;32m    424\u001b[0m     \u001b[0;32melse\u001b[0m\u001b[0;34m:\u001b[0m\u001b[0;34m\u001b[0m\u001b[0;34m\u001b[0m\u001b[0m\n",
            "\u001b[0;31mFileNotFoundError\u001b[0m: [Errno 2] No such file or directory: 'C:/Users/Dell/Desktop/SDP FINAL/Rice_Dataset_2/RiceLeafsDisease/test/healthy/IMG_3233.jpg'"
          ]
        }
      ],
      "source": [
        "# predicting an image\n",
        "import numpy as np\n",
        "import matplotlib.pyplot as plt\n",
        "from tensorflow.keras.preprocessing import image\n",
        "\n",
        "img_path= 'C:/Users/Dell/Desktop/SDP FINAL/Rice_Dataset_2/RiceLeafsDisease/test/healthy/IMG_3233.jpg'\n",
        "test_image = image.load_img(img_path, target_size = (224,224))\n",
        "image = image.img_to_array(test_image)\n",
        "image = image/255\n",
        "image = np.expand_dims(test_image, axis = 0)\n",
        "\n",
        "print(\"Following is our prediction:\")\n",
        "prediction = model.predict(image)\n",
        "# decode the results into a list of tuples (class, description, probability)\n",
        "# (one such list for each sample in the batch)\n",
        "d = prediction.flatten()\n",
        "j = d.max()\n",
        "for index,item in enumerate(d):\n",
        "    if item == j:\n",
        "        class_name = li[index]\n",
        "\n",
        "#ploting image with predicted class name\n",
        "plt.figure(figsize = (4,4))\n",
        "plt.imshow(test_image)\n",
        "plt.axis('off')\n",
        "plt.title(class_name)\n",
        "plt.show()\n",
        "\n",
        "\n",
        "\n"
      ]
    },
    {
      "cell_type": "code",
      "execution_count": null,
      "metadata": {
        "id": "SvFrw8ktMVn1"
      },
      "outputs": [],
      "source": [
        "# Load the trained model\n",
        "model = keras.models.load_model(\"VGG16_model.h5\")\n",
        "\n",
        "# Make predictions on the test images\n",
        "predictions = model.predict(test_set)\n",
        "\n",
        "# Get the predicted class labels\n",
        "predicted_labels = np.argmax(predictions, axis=1)\n",
        "\n",
        "# Get the class names\n",
        "class_names = training_set.class_indices\n",
        "\n",
        "# Get the disease labels\n",
        "disease_labels = {\n",
        "    0: \"Brown_Spot\",\n",
        "    1: \"Healthy\",\n",
        "    2: \"Hispa\",\n",
        "    3: \"Leaf_Blast\"\n",
        "}\n",
        "\n",
        "# Print the predictions for each test image\n",
        "for i in range(len(test_set.filenames)):\n",
        "    image_path = os.path.join(test_path, test_set.filenames[i])\n",
        "    image_label = predicted_labels[i]\n",
        "    #image_class = class_names[image_label]\n",
        "    image_disease = disease_labels[image_label]\n",
        "    print(f\"Image: {image_path}\")\n",
        "    #print(f\"Class: {image_class}\")\n",
        "    print(f\"Disease: {image_disease}\")\n",
        "    print(\"----------------------\")"
      ]
    },
    {
      "cell_type": "markdown",
      "metadata": {
        "papermill": {
          "duration": 0.120098,
          "end_time": "2021-01-06T15:23:31.875556",
          "exception": false,
          "start_time": "2021-01-06T15:23:31.755458",
          "status": "completed"
        },
        "tags": [],
        "id": "2cgYT5tcMVn1"
      },
      "source": [
        "### Graph Representation"
      ]
    },
    {
      "cell_type": "markdown",
      "metadata": {
        "papermill": {
          "duration": 0.12371,
          "end_time": "2021-01-06T15:23:33.747994",
          "exception": false,
          "start_time": "2021-01-06T15:23:33.624284",
          "status": "completed"
        },
        "tags": [],
        "id": "42isSXiWMVn1"
      },
      "source": [
        "### F1 Score"
      ]
    },
    {
      "cell_type": "code",
      "execution_count": null,
      "metadata": {
        "id": "WJDeLsWhMVn1"
      },
      "outputs": [],
      "source": [
        "'''from sklearn.metrics import accuracy_score, classification_report\n",
        "# Get the predicted labels for the validation set### Libraries\n",
        "y_pred = model.predict(valid_set)\n",
        "y_pred = np.argmax(y_pred, axis=1)\n",
        "\n",
        "# Get the true labels for the validation set\n",
        "y_true = valid_set.classes\n",
        "\n",
        "# Calculate classification metrics\n",
        "report = classification_report(y_true, y_pred)\n",
        "print(report)'''\n",
        "\n",
        "from sklearn.metrics import f1_score\n",
        "from sklearn.metrics import accuracy_score, classification_report\n",
        "# Assuming you have predictions and ground truth labels\n",
        "predictions = model.predict(valid_set)\n",
        "predicted_labels = np.argmax(predictions, axis=1)\n",
        "true_labels = valid_set.classes\n",
        "\n",
        "# Calculate F1 score\n",
        "f1 = f1_score(true_labels, predicted_labels, average='weighted')\n",
        "report = classification_report(true_labels, predicted_labels)\n",
        "print(report)\n",
        "\n",
        "print(\"F1 Score: {:.4f}\".format(f1))"
      ]
    },
    {
      "cell_type": "markdown",
      "metadata": {
        "id": "1U_fD2evMVn2"
      },
      "source": [
        "# Confusion Matrix"
      ]
    },
    {
      "cell_type": "code",
      "execution_count": null,
      "metadata": {
        "id": "8f-KPQlZMVn2"
      },
      "outputs": [],
      "source": [
        "import numpy as np\n",
        "import matplotlib.pyplot as plt\n",
        "import seaborn as sns\n",
        "from sklearn.metrics import confusion_matrix\n",
        "# Load the trained model\n",
        "model = keras.models.load_model(\"VGG16_model.h5\")\n",
        "\n",
        "#Finding the accuracy\n",
        "print(\"[INFO] Calculating model accuracy\")\n",
        "scores = model.evaluate(valid_set, batch_size= 32 )\n",
        "result= scores[1]*100\n",
        "print(f\"Test Accuracy: \",result)\n",
        "\n",
        "\n",
        "# Assuming you have the model predictions and true labels\n",
        "predictions = model.predict(valid_set)\n",
        "predicted_labels = np.argmax(predictions, axis=1)\n",
        "true_labels = valid_set.classes\n",
        "\n",
        "# Create confusion matrix\n",
        "cm = confusion_matrix(true_labels, predicted_labels)\n",
        "\n",
        "# Get class labels\n",
        "class_labels = list(valid_set.class_indices.keys())\n",
        "\n",
        "# Plot confusion matrix\n",
        "plt.figure(figsize=(8,8))\n",
        "sns.heatmap(cm, annot=True, fmt=\"d\", cmap='Blues', xticklabels=class_labels, yticklabels=class_labels)\n",
        "plt.title(\"Confusion Matrix\")\n",
        "plt.xlabel(\"Predicted Labels\")\n",
        "plt.ylabel(\"True Labels\")\n",
        "plt.show()\n"
      ]
    },
    {
      "cell_type": "code",
      "execution_count": null,
      "metadata": {
        "id": "D4-LWBnZMVn2"
      },
      "outputs": [],
      "source": []
    }
  ],
  "metadata": {
    "kernelspec": {
      "display_name": "Python 3",
      "name": "python3"
    },
    "language_info": {
      "codemirror_mode": {
        "name": "ipython",
        "version": 3
      },
      "file_extension": ".py",
      "mimetype": "text/x-python",
      "name": "python",
      "nbconvert_exporter": "python",
      "pygments_lexer": "ipython3",
      "version": "3.10.9"
    },
    "papermill": {
      "duration": 3213.555256,
      "end_time": "2021-01-06T15:50:05.235307",
      "environment_variables": {},
      "exception": null,
      "input_path": "__notebook__.ipynb",
      "output_path": "__notebook__.ipynb",
      "parameters": {},
      "start_time": "2021-01-06T14:56:31.680051",
      "version": "2.1.0"
    },
    "colab": {
      "provenance": [],
      "gpuType": "T4"
    },
    "accelerator": "GPU"
  },
  "nbformat": 4,
  "nbformat_minor": 0
}